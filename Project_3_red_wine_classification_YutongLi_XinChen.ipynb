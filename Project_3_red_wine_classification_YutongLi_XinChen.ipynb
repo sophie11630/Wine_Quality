{
 "cells": [
  {
   "cell_type": "markdown",
   "metadata": {},
   "source": [
    "# Bus241 datasets: Wine quality data example\n",
    "* Source:  ML repository\n",
    "* Wine quality by experts (0 - 10)\n",
    "* Predictors:  Wine chemical composition\n",
    "* This can be done as either classification, or regression\n"
   ]
  },
  {
   "cell_type": "markdown",
   "metadata": {},
   "source": [
    "# I. Import Basic Packages"
   ]
  },
  {
   "cell_type": "code",
   "execution_count": 220,
   "metadata": {
    "_cell_guid": "87c7b371-53b1-4d4d-bfbd-373d2b84b33a",
    "_uuid": "da5343fb3f6b3942909c94bf8e2add04fd3ff1a3"
   },
   "outputs": [],
   "source": [
    "# basics\n",
    "%matplotlib inline\n",
    "import numpy as np\n",
    "import pandas as pd\n",
    "import seaborn as sns\n",
    "import matplotlib.pyplot as plt\n",
    "import matplotlib as mpl"
   ]
  },
  {
   "cell_type": "code",
   "execution_count": 3,
   "metadata": {},
   "outputs": [],
   "source": [
    "# Generate many test/train splits\n",
    "# A monte-carlo for cross validation\n",
    "# This is how we should measure performance\n",
    "# Note:  This will work with any model\n",
    "# Quoted from BUS241 course notebook\n",
    "def MCtraintest(nmc,X,y,modelObj,testFrac):\n",
    "    # Create memory space for monte-carlo runs\n",
    "    trainScore = np.zeros(nmc)\n",
    "    testScore  = np.zeros(nmc)\n",
    "    for i in range(nmc):\n",
    "        X_train, X_test, y_train, y_test = train_test_split(X,y,test_size=testFrac)\n",
    "        modelObj.fit(X_train,y_train)\n",
    "        trainScore[i] = modelObj.score(X_train,y_train)\n",
    "        testScore[i]  = modelObj.score(X_test,y_test)\n",
    "    return trainScore,testScore"
   ]
  },
  {
   "cell_type": "markdown",
   "metadata": {},
   "source": [
    "# II. Read and Verify Data"
   ]
  },
  {
   "cell_type": "markdown",
   "metadata": {},
   "source": [
    "**Define Data Cleaning Pipeline:**\n",
    "\n",
    "This pipeline is quoted from https://towardsdatascience.com/cleaner-data-analysis-with-pandas-using-pipes-4d73770fbf3c. I quoted some of these, and also modified and edited this pipeline based on what I need for the cleaning."
   ]
  },
  {
   "cell_type": "code",
   "execution_count": 28,
   "metadata": {},
   "outputs": [],
   "source": [
    "def copy_df(df):\n",
    "    return df.copy()\n",
    "\n",
    "# if we have a column that contains more than half NaN values, we chose to drop it\n",
    "def drop_null(df):\n",
    "    threshold = len(df) * 0.5\n",
    "    df = df.dropna(axis = 1, thresh = threshold)\n",
    "    return df\n",
    "\n",
    "# one way to deal with missing values\n",
    "def median_inpute(df, columns):\n",
    "    median = df[columns].median()\n",
    "    df = df.fillna(median)\n",
    "    return df\n",
    "        \n",
    "# here we select data only within 0.05 and 0.95 quantile\n",
    "def remove_outliers(df, column):\n",
    "    low = df[column].mean() - 3 * df[column].std()\n",
    "    high = df[column].mean() + 3 * df[column].std()\n",
    "    return df[df[column].between(low, high, inclusive = True)]\n",
    "\n",
    "# change \"object\" to \"category\" dtype to save memory space\n",
    "def to_category(df):\n",
    "    cols = df.select_dtypes(include=\"object\").columns\n",
    "    for c in cols:\n",
    "        cat_ratio = len(df[c].value_counts()) / len(df)\n",
    "        if cat_ratio < 0.05:\n",
    "            df[c] = df[c].astype(\"category\")\n",
    "    return df"
   ]
  },
  {
   "cell_type": "markdown",
   "metadata": {},
   "source": [
    "### 1. Read Data"
   ]
  },
  {
   "cell_type": "code",
   "execution_count": 29,
   "metadata": {
    "_cell_guid": "800f9ff4-79bf-4785-9569-23e1d9b9b03b",
    "_uuid": "07c8409e4eccd80507d9846e8cc70ea42e58cbe6"
   },
   "outputs": [],
   "source": [
    "# Loading dataset\n",
    "wineall = pd.read_csv('winequality-red.csv')"
   ]
  },
  {
   "cell_type": "markdown",
   "metadata": {},
   "source": [
    "### 2. Verify Data"
   ]
  },
  {
   "cell_type": "code",
   "execution_count": 30,
   "metadata": {},
   "outputs": [
    {
     "data": {
      "text/html": [
       "<div>\n",
       "<style scoped>\n",
       "    .dataframe tbody tr th:only-of-type {\n",
       "        vertical-align: middle;\n",
       "    }\n",
       "\n",
       "    .dataframe tbody tr th {\n",
       "        vertical-align: top;\n",
       "    }\n",
       "\n",
       "    .dataframe thead th {\n",
       "        text-align: right;\n",
       "    }\n",
       "</style>\n",
       "<table border=\"1\" class=\"dataframe\">\n",
       "  <thead>\n",
       "    <tr style=\"text-align: right;\">\n",
       "      <th></th>\n",
       "      <th>fixedAcidity</th>\n",
       "      <th>volatileAcidity</th>\n",
       "      <th>citricAcid</th>\n",
       "      <th>residualSugar</th>\n",
       "      <th>chlorides</th>\n",
       "      <th>freeSulfurDioxide</th>\n",
       "      <th>totalSulfurDioxide</th>\n",
       "      <th>density</th>\n",
       "      <th>pH</th>\n",
       "      <th>sulphates</th>\n",
       "      <th>alcohol</th>\n",
       "      <th>quality</th>\n",
       "    </tr>\n",
       "  </thead>\n",
       "  <tbody>\n",
       "    <tr>\n",
       "      <th>0</th>\n",
       "      <td>7.4</td>\n",
       "      <td>0.70</td>\n",
       "      <td>0.00</td>\n",
       "      <td>1.9</td>\n",
       "      <td>0.076</td>\n",
       "      <td>11.0</td>\n",
       "      <td>34.0</td>\n",
       "      <td>0.9978</td>\n",
       "      <td>3.51</td>\n",
       "      <td>0.56</td>\n",
       "      <td>9.4</td>\n",
       "      <td>5</td>\n",
       "    </tr>\n",
       "    <tr>\n",
       "      <th>1</th>\n",
       "      <td>7.8</td>\n",
       "      <td>0.88</td>\n",
       "      <td>0.00</td>\n",
       "      <td>2.6</td>\n",
       "      <td>0.098</td>\n",
       "      <td>25.0</td>\n",
       "      <td>67.0</td>\n",
       "      <td>0.9968</td>\n",
       "      <td>3.20</td>\n",
       "      <td>0.68</td>\n",
       "      <td>9.8</td>\n",
       "      <td>5</td>\n",
       "    </tr>\n",
       "    <tr>\n",
       "      <th>2</th>\n",
       "      <td>7.8</td>\n",
       "      <td>0.76</td>\n",
       "      <td>0.04</td>\n",
       "      <td>2.3</td>\n",
       "      <td>0.092</td>\n",
       "      <td>15.0</td>\n",
       "      <td>54.0</td>\n",
       "      <td>0.9970</td>\n",
       "      <td>3.26</td>\n",
       "      <td>0.65</td>\n",
       "      <td>9.8</td>\n",
       "      <td>5</td>\n",
       "    </tr>\n",
       "    <tr>\n",
       "      <th>3</th>\n",
       "      <td>11.2</td>\n",
       "      <td>0.28</td>\n",
       "      <td>0.56</td>\n",
       "      <td>1.9</td>\n",
       "      <td>0.075</td>\n",
       "      <td>17.0</td>\n",
       "      <td>60.0</td>\n",
       "      <td>0.9980</td>\n",
       "      <td>3.16</td>\n",
       "      <td>0.58</td>\n",
       "      <td>9.8</td>\n",
       "      <td>6</td>\n",
       "    </tr>\n",
       "    <tr>\n",
       "      <th>4</th>\n",
       "      <td>7.4</td>\n",
       "      <td>0.70</td>\n",
       "      <td>0.00</td>\n",
       "      <td>1.9</td>\n",
       "      <td>0.076</td>\n",
       "      <td>11.0</td>\n",
       "      <td>34.0</td>\n",
       "      <td>0.9978</td>\n",
       "      <td>3.51</td>\n",
       "      <td>0.56</td>\n",
       "      <td>9.4</td>\n",
       "      <td>5</td>\n",
       "    </tr>\n",
       "  </tbody>\n",
       "</table>\n",
       "</div>"
      ],
      "text/plain": [
       "   fixedAcidity  volatileAcidity  citricAcid  residualSugar  chlorides  \\\n",
       "0           7.4             0.70        0.00            1.9      0.076   \n",
       "1           7.8             0.88        0.00            2.6      0.098   \n",
       "2           7.8             0.76        0.04            2.3      0.092   \n",
       "3          11.2             0.28        0.56            1.9      0.075   \n",
       "4           7.4             0.70        0.00            1.9      0.076   \n",
       "\n",
       "   freeSulfurDioxide  totalSulfurDioxide  density    pH  sulphates  alcohol  \\\n",
       "0               11.0                34.0   0.9978  3.51       0.56      9.4   \n",
       "1               25.0                67.0   0.9968  3.20       0.68      9.8   \n",
       "2               15.0                54.0   0.9970  3.26       0.65      9.8   \n",
       "3               17.0                60.0   0.9980  3.16       0.58      9.8   \n",
       "4               11.0                34.0   0.9978  3.51       0.56      9.4   \n",
       "\n",
       "   quality  \n",
       "0        5  \n",
       "1        5  \n",
       "2        5  \n",
       "3        6  \n",
       "4        5  "
      ]
     },
     "execution_count": 30,
     "metadata": {},
     "output_type": "execute_result"
    }
   ],
   "source": [
    "wineall.head()"
   ]
  },
  {
   "cell_type": "code",
   "execution_count": 31,
   "metadata": {
    "_cell_guid": "704f4830-5804-436d-9b78-6ca00f5ae510",
    "_uuid": "af141503385967f92d409c5e111e2724b4c9636f"
   },
   "outputs": [
    {
     "name": "stdout",
     "output_type": "stream",
     "text": [
      "<class 'pandas.core.frame.DataFrame'>\n",
      "RangeIndex: 1599 entries, 0 to 1598\n",
      "Data columns (total 12 columns):\n",
      " #   Column              Non-Null Count  Dtype  \n",
      "---  ------              --------------  -----  \n",
      " 0   fixedAcidity        1599 non-null   float64\n",
      " 1   volatileAcidity     1599 non-null   float64\n",
      " 2   citricAcid          1599 non-null   float64\n",
      " 3   residualSugar       1599 non-null   float64\n",
      " 4   chlorides           1599 non-null   float64\n",
      " 5   freeSulfurDioxide   1599 non-null   float64\n",
      " 6   totalSulfurDioxide  1599 non-null   float64\n",
      " 7   density             1599 non-null   float64\n",
      " 8   pH                  1599 non-null   float64\n",
      " 9   sulphates           1599 non-null   float64\n",
      " 10  alcohol             1599 non-null   float64\n",
      " 11  quality             1599 non-null   int64  \n",
      "dtypes: float64(11), int64(1)\n",
      "memory usage: 150.0 KB\n"
     ]
    }
   ],
   "source": [
    "#Checking more detail information about the data\n",
    "wineall.info()"
   ]
  },
  {
   "cell_type": "code",
   "execution_count": 32,
   "metadata": {},
   "outputs": [
    {
     "data": {
      "text/plain": [
       "(1599, 12)"
      ]
     },
     "execution_count": 32,
     "metadata": {},
     "output_type": "execute_result"
    }
   ],
   "source": [
    "wineall.shape"
   ]
  },
  {
   "cell_type": "markdown",
   "metadata": {},
   "source": [
    "### 3. Handle Missing Data"
   ]
  },
  {
   "cell_type": "code",
   "execution_count": 34,
   "metadata": {},
   "outputs": [
    {
     "data": {
      "text/plain": [
       "fixedAcidity          0\n",
       "volatileAcidity       0\n",
       "citricAcid            0\n",
       "residualSugar         0\n",
       "chlorides             0\n",
       "freeSulfurDioxide     0\n",
       "totalSulfurDioxide    0\n",
       "density               0\n",
       "pH                    0\n",
       "sulphates             0\n",
       "alcohol               0\n",
       "quality               0\n",
       "dtype: int64"
      ]
     },
     "execution_count": 34,
     "metadata": {},
     "output_type": "execute_result"
    }
   ],
   "source": [
    "wineall.isnull().sum()"
   ]
  },
  {
   "cell_type": "markdown",
   "metadata": {},
   "source": [
    "### 4. Inspect Outliers"
   ]
  },
  {
   "cell_type": "code",
   "execution_count": 35,
   "metadata": {},
   "outputs": [
    {
     "data": {
      "text/plain": [
       "['fixedAcidity',\n",
       " 'volatileAcidity',\n",
       " 'citricAcid',\n",
       " 'residualSugar',\n",
       " 'chlorides',\n",
       " 'freeSulfurDioxide',\n",
       " 'totalSulfurDioxide',\n",
       " 'density',\n",
       " 'pH',\n",
       " 'sulphates',\n",
       " 'alcohol']"
      ]
     },
     "execution_count": 35,
     "metadata": {},
     "output_type": "execute_result"
    }
   ],
   "source": [
    "quant_list = wineall.columns.tolist()[:-1]\n",
    "quant_list"
   ]
  },
  {
   "cell_type": "code",
   "execution_count": 36,
   "metadata": {},
   "outputs": [
    {
     "data": {
      "image/png": "[encoded data removed]",
      "text/plain": [
       "<Figure size 2160x720 with 11 Axes>"
      ]
     },
     "metadata": {
      "needs_background": "light"
     },
     "output_type": "display_data"
    }
   ],
   "source": [
    "plt.figure(figsize=(30,10))\n",
    "\n",
    "for i in range(len(quant_list)):\n",
    "    plt.subplot(1, len(quant_list), i+1) \n",
    "    plt.boxplot(wineall[quant_list[i]]) \n",
    "    plt.title(quant_list[i],fontsize=17)\n",
    "    \n",
    "plt.show()"
   ]
  },
  {
   "cell_type": "code",
   "execution_count": 37,
   "metadata": {},
   "outputs": [],
   "source": [
    "wineall = (wineall.pipe(copy_df).\n",
    "              pipe(remove_outliers, quant_list[0]).\n",
    "              pipe(remove_outliers, quant_list[1]).\n",
    "              pipe(remove_outliers, quant_list[2]).\n",
    "              pipe(remove_outliers, quant_list[3]).\n",
    "              pipe(remove_outliers, quant_list[4]).\n",
    "              pipe(remove_outliers, quant_list[5]).\n",
    "              pipe(remove_outliers, quant_list[6]).\n",
    "              pipe(remove_outliers, quant_list[7]).\n",
    "              pipe(remove_outliers, quant_list[8]).\n",
    "              pipe(remove_outliers, quant_list[9]).\n",
    "              pipe(remove_outliers, quant_list[10]))"
   ]
  },
  {
   "cell_type": "code",
   "execution_count": 38,
   "metadata": {},
   "outputs": [
    {
     "data": {
      "image/png": "[encoded data removed]",
      "text/plain": [
       "<Figure size 2160x720 with 11 Axes>"
      ]
     },
     "metadata": {
      "needs_background": "light"
     },
     "output_type": "display_data"
    }
   ],
   "source": [
    "plt.figure(figsize=(30,10))\n",
    "\n",
    "for i in range(len(quant_list)):\n",
    "    plt.subplot(1, len(quant_list), i+1) \n",
    "    plt.boxplot(wineall[quant_list[i]]) \n",
    "    plt.title(quant_list[i],fontsize=17)\n",
    "    \n",
    "plt.show()"
   ]
  },
  {
   "cell_type": "code",
   "execution_count": 39,
   "metadata": {},
   "outputs": [
    {
     "name": "stdout",
     "output_type": "stream",
     "text": [
      "<class 'pandas.core.frame.DataFrame'>\n",
      "Int64Index: 1431 entries, 0 to 1598\n",
      "Data columns (total 12 columns):\n",
      " #   Column              Non-Null Count  Dtype  \n",
      "---  ------              --------------  -----  \n",
      " 0   fixedAcidity        1431 non-null   float64\n",
      " 1   volatileAcidity     1431 non-null   float64\n",
      " 2   citricAcid          1431 non-null   float64\n",
      " 3   residualSugar       1431 non-null   float64\n",
      " 4   chlorides           1431 non-null   float64\n",
      " 5   freeSulfurDioxide   1431 non-null   float64\n",
      " 6   totalSulfurDioxide  1431 non-null   float64\n",
      " 7   density             1431 non-null   float64\n",
      " 8   pH                  1431 non-null   float64\n",
      " 9   sulphates           1431 non-null   float64\n",
      " 10  alcohol             1431 non-null   float64\n",
      " 11  quality             1431 non-null   int64  \n",
      "dtypes: float64(11), int64(1)\n",
      "memory usage: 145.3 KB\n"
     ]
    }
   ],
   "source": [
    "wineall.info()"
   ]
  },
  {
   "cell_type": "markdown",
   "metadata": {},
   "source": [
    "### 5. Set Up Binary Classifier"
   ]
  },
  {
   "cell_type": "markdown",
   "metadata": {},
   "source": [
    "Define quality > 6.5 as good quality (=1), and the rest as poor quality (=0)."
   ]
  },
  {
   "cell_type": "code",
   "execution_count": 40,
   "metadata": {},
   "outputs": [
    {
     "name": "stdout",
     "output_type": "stream",
     "text": [
      "0.13487071977638015\n"
     ]
    }
   ],
   "source": [
    "# Define quality > 6.5 as good quality\n",
    "ybin = wineall['quality'] > 6.5\n",
    "print(np.mean(ybin))\n",
    "wineall['goodqual'] = ybin"
   ]
  },
  {
   "cell_type": "markdown",
   "metadata": {},
   "source": [
    "### 6. Data Visualization and Analysis"
   ]
  },
  {
   "cell_type": "code",
   "execution_count": 189,
   "metadata": {},
   "outputs": [
    {
     "data": {
      "text/html": [
       "<div>\n",
       "<style scoped>\n",
       "    .dataframe tbody tr th:only-of-type {\n",
       "        vertical-align: middle;\n",
       "    }\n",
       "\n",
       "    .dataframe tbody tr th {\n",
       "        vertical-align: top;\n",
       "    }\n",
       "\n",
       "    .dataframe thead th {\n",
       "        text-align: right;\n",
       "    }\n",
       "</style>\n",
       "<table border=\"1\" class=\"dataframe\">\n",
       "  <thead>\n",
       "    <tr style=\"text-align: right;\">\n",
       "      <th></th>\n",
       "      <th>count</th>\n",
       "      <th>mean</th>\n",
       "      <th>std</th>\n",
       "      <th>min</th>\n",
       "      <th>25%</th>\n",
       "      <th>50%</th>\n",
       "      <th>75%</th>\n",
       "      <th>max</th>\n",
       "    </tr>\n",
       "  </thead>\n",
       "  <tbody>\n",
       "    <tr>\n",
       "      <th>fixedAcidity</th>\n",
       "      <td>1431.0</td>\n",
       "      <td>8.310692</td>\n",
       "      <td>1.645746</td>\n",
       "      <td>5.0000</td>\n",
       "      <td>7.1000</td>\n",
       "      <td>7.9000</td>\n",
       "      <td>9.2000</td>\n",
       "      <td>13.5000</td>\n",
       "    </tr>\n",
       "    <tr>\n",
       "      <th>volatileAcidity</th>\n",
       "      <td>1431.0</td>\n",
       "      <td>0.524018</td>\n",
       "      <td>0.169816</td>\n",
       "      <td>0.1200</td>\n",
       "      <td>0.3900</td>\n",
       "      <td>0.5200</td>\n",
       "      <td>0.6350</td>\n",
       "      <td>1.0400</td>\n",
       "    </tr>\n",
       "    <tr>\n",
       "      <th>citricAcid</th>\n",
       "      <td>1431.0</td>\n",
       "      <td>0.264018</td>\n",
       "      <td>0.191504</td>\n",
       "      <td>0.0000</td>\n",
       "      <td>0.0900</td>\n",
       "      <td>0.2500</td>\n",
       "      <td>0.4200</td>\n",
       "      <td>0.7900</td>\n",
       "    </tr>\n",
       "    <tr>\n",
       "      <th>residualSugar</th>\n",
       "      <td>1431.0</td>\n",
       "      <td>2.387456</td>\n",
       "      <td>0.862736</td>\n",
       "      <td>1.2000</td>\n",
       "      <td>1.9000</td>\n",
       "      <td>2.2000</td>\n",
       "      <td>2.6000</td>\n",
       "      <td>6.7000</td>\n",
       "    </tr>\n",
       "    <tr>\n",
       "      <th>chlorides</th>\n",
       "      <td>1431.0</td>\n",
       "      <td>0.081379</td>\n",
       "      <td>0.020627</td>\n",
       "      <td>0.0380</td>\n",
       "      <td>0.0700</td>\n",
       "      <td>0.0790</td>\n",
       "      <td>0.0890</td>\n",
       "      <td>0.2220</td>\n",
       "    </tr>\n",
       "    <tr>\n",
       "      <th>freeSulfurDioxide</th>\n",
       "      <td>1431.0</td>\n",
       "      <td>14.938505</td>\n",
       "      <td>9.176002</td>\n",
       "      <td>1.0000</td>\n",
       "      <td>7.0000</td>\n",
       "      <td>13.0000</td>\n",
       "      <td>20.5000</td>\n",
       "      <td>45.0000</td>\n",
       "    </tr>\n",
       "    <tr>\n",
       "      <th>totalSulfurDioxide</th>\n",
       "      <td>1431.0</td>\n",
       "      <td>42.587701</td>\n",
       "      <td>27.807892</td>\n",
       "      <td>6.0000</td>\n",
       "      <td>21.0000</td>\n",
       "      <td>35.0000</td>\n",
       "      <td>57.0000</td>\n",
       "      <td>135.0000</td>\n",
       "    </tr>\n",
       "    <tr>\n",
       "      <th>density</th>\n",
       "      <td>1431.0</td>\n",
       "      <td>0.996717</td>\n",
       "      <td>0.001700</td>\n",
       "      <td>0.9915</td>\n",
       "      <td>0.9956</td>\n",
       "      <td>0.9967</td>\n",
       "      <td>0.9978</td>\n",
       "      <td>1.0021</td>\n",
       "    </tr>\n",
       "    <tr>\n",
       "      <th>pH</th>\n",
       "      <td>1431.0</td>\n",
       "      <td>3.316939</td>\n",
       "      <td>0.140902</td>\n",
       "      <td>2.8800</td>\n",
       "      <td>3.2200</td>\n",
       "      <td>3.3200</td>\n",
       "      <td>3.4000</td>\n",
       "      <td>3.7500</td>\n",
       "    </tr>\n",
       "    <tr>\n",
       "      <th>sulphates</th>\n",
       "      <td>1431.0</td>\n",
       "      <td>0.640699</td>\n",
       "      <td>0.126753</td>\n",
       "      <td>0.3300</td>\n",
       "      <td>0.5500</td>\n",
       "      <td>0.6200</td>\n",
       "      <td>0.7100</td>\n",
       "      <td>1.1100</td>\n",
       "    </tr>\n",
       "    <tr>\n",
       "      <th>alcohol</th>\n",
       "      <td>1431.0</td>\n",
       "      <td>10.419415</td>\n",
       "      <td>1.009369</td>\n",
       "      <td>8.4000</td>\n",
       "      <td>9.5000</td>\n",
       "      <td>10.2000</td>\n",
       "      <td>11.1000</td>\n",
       "      <td>13.5000</td>\n",
       "    </tr>\n",
       "    <tr>\n",
       "      <th>quality</th>\n",
       "      <td>1431.0</td>\n",
       "      <td>5.646401</td>\n",
       "      <td>0.798197</td>\n",
       "      <td>3.0000</td>\n",
       "      <td>5.0000</td>\n",
       "      <td>6.0000</td>\n",
       "      <td>6.0000</td>\n",
       "      <td>8.0000</td>\n",
       "    </tr>\n",
       "  </tbody>\n",
       "</table>\n",
       "</div>"
      ],
      "text/plain": [
       "                     count       mean        std     min      25%      50%  \\\n",
       "fixedAcidity        1431.0   8.310692   1.645746  5.0000   7.1000   7.9000   \n",
       "volatileAcidity     1431.0   0.524018   0.169816  0.1200   0.3900   0.5200   \n",
       "citricAcid          1431.0   0.264018   0.191504  0.0000   0.0900   0.2500   \n",
       "residualSugar       1431.0   2.387456   0.862736  1.2000   1.9000   2.2000   \n",
       "chlorides           1431.0   0.081379   0.020627  0.0380   0.0700   0.0790   \n",
       "freeSulfurDioxide   1431.0  14.938505   9.176002  1.0000   7.0000  13.0000   \n",
       "totalSulfurDioxide  1431.0  42.587701  27.807892  6.0000  21.0000  35.0000   \n",
       "density             1431.0   0.996717   0.001700  0.9915   0.9956   0.9967   \n",
       "pH                  1431.0   3.316939   0.140902  2.8800   3.2200   3.3200   \n",
       "sulphates           1431.0   0.640699   0.126753  0.3300   0.5500   0.6200   \n",
       "alcohol             1431.0  10.419415   1.009369  8.4000   9.5000  10.2000   \n",
       "quality             1431.0   5.646401   0.798197  3.0000   5.0000   6.0000   \n",
       "\n",
       "                        75%       max  \n",
       "fixedAcidity         9.2000   13.5000  \n",
       "volatileAcidity      0.6350    1.0400  \n",
       "citricAcid           0.4200    0.7900  \n",
       "residualSugar        2.6000    6.7000  \n",
       "chlorides            0.0890    0.2220  \n",
       "freeSulfurDioxide   20.5000   45.0000  \n",
       "totalSulfurDioxide  57.0000  135.0000  \n",
       "density              0.9978    1.0021  \n",
       "pH                   3.4000    3.7500  \n",
       "sulphates            0.7100    1.1100  \n",
       "alcohol             11.1000   13.5000  \n",
       "quality              6.0000    8.0000  "
      ]
     },
     "execution_count": 189,
     "metadata": {},
     "output_type": "execute_result"
    }
   ],
   "source": [
    "wineall.describe().transpose()"
   ]
  },
  {
   "cell_type": "markdown",
   "metadata": {},
   "source": [
    "#### Goodqual Barchart:"
   ]
  },
  {
   "cell_type": "code",
   "execution_count": 43,
   "metadata": {},
   "outputs": [
    {
     "data": {
      "text/plain": [
       "<matplotlib.axes._subplots.AxesSubplot at 0x7f8807db5820>"
      ]
     },
     "execution_count": 43,
     "metadata": {},
     "output_type": "execute_result"
    },
    {
     "data": {
      "image/png": "[encoded data removed]",
      "text/plain": [
       "<Figure size 432x288 with 1 Axes>"
      ]
     },
     "metadata": {
      "needs_background": "light"
     },
     "output_type": "display_data"
    }
   ],
   "source": [
    "# Plot the distribution of \"goodqual\" wine\n",
    "sns.countplot(wineall['goodqual'])"
   ]
  },
  {
   "cell_type": "code",
   "execution_count": 165,
   "metadata": {},
   "outputs": [
    {
     "data": {
      "text/plain": [
       "['fixedAcidity',\n",
       " 'volatileAcidity',\n",
       " 'citricAcid',\n",
       " 'residualSugar',\n",
       " 'chlorides',\n",
       " 'freeSulfurDioxide',\n",
       " 'totalSulfurDioxide',\n",
       " 'density',\n",
       " 'pH',\n",
       " 'sulphates',\n",
       " 'alcohol',\n",
       " 'quality',\n",
       " 'goodqual']"
      ]
     },
     "execution_count": 165,
     "metadata": {},
     "output_type": "execute_result"
    }
   ],
   "source": [
    "wine_column = wineall.columns.to_list()\n",
    "wine_column"
   ]
  },
  {
   "cell_type": "code",
   "execution_count": 135,
   "metadata": {},
   "outputs": [
    {
     "data": {
      "text/plain": [
       "Text(0.5, 1.0, 'citricAcid')"
      ]
     },
     "execution_count": 135,
     "metadata": {},
     "output_type": "execute_result"
    },
    {
     "data": {
      "image/png": "[encoded data removed]",
      "text/plain": [
       "<Figure size 864x360 with 3 Axes>"
      ]
     },
     "metadata": {},
     "output_type": "display_data"
    }
   ],
   "source": [
    "plt.figure(figsize=(12,5))\n",
    "\n",
    "plt.subplot(1, 3, 1) \n",
    "sns.kdeplot(wineall['fixedAcidity'], shade=True, color=\"darkred\")\n",
    "plt.title('fixedAcidity',fontsize=20) \n",
    "\n",
    "plt.subplot(1, 3, 2) \n",
    "sns.kdeplot(wineall['volatileAcidity'], shade=True, color=\"red\")\n",
    "plt.title('volatileAcidity',fontsize=20) \n",
    "\n",
    "plt.subplot(1, 3, 3) \n",
    "sns.kdeplot(wineall['citricAcid'], shade=True, color=\"r\")\n",
    "plt.title('citricAcid',fontsize=20)"
   ]
  },
  {
   "cell_type": "code",
   "execution_count": 141,
   "metadata": {},
   "outputs": [
    {
     "data": {
      "text/plain": [
       "Text(0.5, 1.0, 'freeSulfurDioxide')"
      ]
     },
     "execution_count": 141,
     "metadata": {},
     "output_type": "execute_result"
    },
    {
     "data": {
      "image/png": "[encoded data removed]",
      "text/plain": [
       "<Figure size 864x360 with 3 Axes>"
      ]
     },
     "metadata": {},
     "output_type": "display_data"
    }
   ],
   "source": [
    "plt.figure(figsize=(12,5))\n",
    "\n",
    "plt.subplot(1, 3, 1) \n",
    "sns.kdeplot(wineall['residualSugar'], shade=True, color=\"orange\")\n",
    "plt.title('residualSugar',fontsize=20) \n",
    "\n",
    "plt.subplot(1, 3, 2) \n",
    "sns.kdeplot(wineall['chlorides'], shade=True, color=\"yellow\")\n",
    "plt.title('chlorides',fontsize=20) \n",
    "\n",
    "plt.subplot(1, 3, 3) \n",
    "sns.kdeplot(wineall['freeSulfurDioxide'], shade=True, color=\"y\")\n",
    "plt.title('freeSulfurDioxide',fontsize=20)"
   ]
  },
  {
   "cell_type": "code",
   "execution_count": 140,
   "metadata": {},
   "outputs": [
    {
     "data": {
      "text/plain": [
       "Text(0.5, 1.0, 'pH')"
      ]
     },
     "execution_count": 140,
     "metadata": {},
     "output_type": "execute_result"
    },
    {
     "data": {
      "image/png": "[encoded data removed]",
      "text/plain": [
       "<Figure size 864x360 with 3 Axes>"
      ]
     },
     "metadata": {},
     "output_type": "display_data"
    }
   ],
   "source": [
    "plt.figure(figsize=(12,5))\n",
    "\n",
    "plt.subplot(1, 3, 1) \n",
    "sns.kdeplot(wineall['totalSulfurDioxide'], shade=True, color=\"slateblue\")\n",
    "plt.title('totalSulfurDioxide',fontsize=20) \n",
    "\n",
    "plt.subplot(1, 3, 2) \n",
    "sns.kdeplot(wineall['density'], shade=True, color=\"purple\")\n",
    "plt.title('density',fontsize=20) \n",
    "\n",
    "plt.subplot(1, 3, 3) \n",
    "sns.kdeplot(wineall['pH'], shade=True, color=\"b\")\n",
    "plt.title('pH',fontsize=20)"
   ]
  },
  {
   "cell_type": "code",
   "execution_count": 142,
   "metadata": {},
   "outputs": [
    {
     "data": {
      "text/plain": [
       "Text(0.5, 1.0, 'quality')"
      ]
     },
     "execution_count": 142,
     "metadata": {},
     "output_type": "execute_result"
    },
    {
     "data": {
      "image/png": "[encoded data removed]",
      "text/plain": [
       "<Figure size 864x360 with 3 Axes>"
      ]
     },
     "metadata": {},
     "output_type": "display_data"
    }
   ],
   "source": [
    "plt.figure(figsize=(12,5))\n",
    "\n",
    "plt.subplot(1, 3, 1) \n",
    "sns.kdeplot(wineall['sulphates'], shade=True, color=\"darkgreen\")\n",
    "plt.title('sulphates',fontsize=20) \n",
    "\n",
    "plt.subplot(1, 3, 2) \n",
    "sns.kdeplot(wineall['alcohol'], shade=True, color=\"green\")\n",
    "plt.title('alcohol',fontsize=20) \n",
    "\n",
    "plt.subplot(1, 3, 3) \n",
    "sns.kdeplot(wineall['pH'], shade=True, color=\"g\")\n",
    "plt.title('quality',fontsize=20)"
   ]
  },
  {
   "cell_type": "markdown",
   "metadata": {},
   "source": [
    "#### Pairwise Relationship"
   ]
  },
  {
   "cell_type": "code",
   "execution_count": 113,
   "metadata": {
    "scrolled": true
   },
   "outputs": [
    {
     "data": {
      "text/plain": [
       "<matplotlib.axes._subplots.AxesSubplot at 0x7f8809e8df10>"
      ]
     },
     "execution_count": 113,
     "metadata": {},
     "output_type": "execute_result"
    },
    {
     "data": {
      "image/png": "[encoded data removed]",
      "text/plain": [
       "<Figure size 432x288 with 1 Axes>"
      ]
     },
     "metadata": {},
     "output_type": "display_data"
    }
   ],
   "source": [
    "# Plot the relationship between quality and fixedAcidity\n",
    "sns.barplot(x = 'quality', y = 'fixedAcidity', data = wineall, palette=\"Blues_d\")"
   ]
  },
  {
   "cell_type": "code",
   "execution_count": 114,
   "metadata": {},
   "outputs": [
    {
     "data": {
      "text/plain": [
       "<matplotlib.axes._subplots.AxesSubplot at 0x7f8809c0c1f0>"
      ]
     },
     "execution_count": 114,
     "metadata": {},
     "output_type": "execute_result"
    },
    {
     "data": {
      "image/png": "[encoded data removed]",
      "text/plain": [
       "<Figure size 432x288 with 1 Axes>"
      ]
     },
     "metadata": {},
     "output_type": "display_data"
    }
   ],
   "source": [
    "# Plot the relationship between quality and volatileAcidity\n",
    "sns.barplot(x = 'quality', y = 'volatileAcidity', data = wineall, palette=\"Blues_d\")"
   ]
  },
  {
   "cell_type": "code",
   "execution_count": 115,
   "metadata": {},
   "outputs": [
    {
     "data": {
      "text/plain": [
       "<matplotlib.axes._subplots.AxesSubplot at 0x7f8807cb8a90>"
      ]
     },
     "execution_count": 115,
     "metadata": {},
     "output_type": "execute_result"
    },
    {
     "data": {
      "image/png": "[encoded data removed]",
      "text/plain": [
       "<Figure size 432x288 with 1 Axes>"
      ]
     },
     "metadata": {},
     "output_type": "display_data"
    }
   ],
   "source": [
    "# Plot the relationship between quality and citricAcid\n",
    "sns.barplot(x = 'quality', y = 'citricAcid', data = wineall, palette=\"Blues_d\")"
   ]
  },
  {
   "cell_type": "code",
   "execution_count": 116,
   "metadata": {},
   "outputs": [
    {
     "data": {
      "text/plain": [
       "<matplotlib.axes._subplots.AxesSubplot at 0x7f88029800d0>"
      ]
     },
     "execution_count": 116,
     "metadata": {},
     "output_type": "execute_result"
    },
    {
     "data": {
      "image/png": "[encoded data removed]",
      "text/plain": [
       "<Figure size 432x288 with 1 Axes>"
      ]
     },
     "metadata": {},
     "output_type": "display_data"
    }
   ],
   "source": [
    "# Plot the relationship between quality and residualSugar\n",
    "sns.barplot(x = 'quality', y = 'residualSugar', data = wineall, palette=\"Blues_d\")"
   ]
  },
  {
   "cell_type": "code",
   "execution_count": 117,
   "metadata": {},
   "outputs": [
    {
     "data": {
      "text/plain": [
       "<matplotlib.axes._subplots.AxesSubplot at 0x7f88079aa130>"
      ]
     },
     "execution_count": 117,
     "metadata": {},
     "output_type": "execute_result"
    },
    {
     "data": {
      "image/png": "[encoded data removed]",
      "text/plain": [
       "<Figure size 432x288 with 1 Axes>"
      ]
     },
     "metadata": {},
     "output_type": "display_data"
    }
   ],
   "source": [
    "# Plot the relationship between quality and chlorides\n",
    "sns.barplot(x = 'quality', y = 'chlorides', data = wineall, palette=\"Blues_d\")"
   ]
  },
  {
   "cell_type": "code",
   "execution_count": 118,
   "metadata": {},
   "outputs": [
    {
     "data": {
      "text/plain": [
       "<matplotlib.axes._subplots.AxesSubplot at 0x7f880715e400>"
      ]
     },
     "execution_count": 118,
     "metadata": {},
     "output_type": "execute_result"
    },
    {
     "data": {
      "image/png": "[encoded data removed]",
      "text/plain": [
       "<Figure size 432x288 with 1 Axes>"
      ]
     },
     "metadata": {},
     "output_type": "display_data"
    }
   ],
   "source": [
    "# Plot the relationship between quality and freeSulfurDioxide\n",
    "sns.barplot(x = 'quality', y = 'freeSulfurDioxide', data = wineall, palette=\"Blues_d\")"
   ]
  },
  {
   "cell_type": "code",
   "execution_count": 119,
   "metadata": {},
   "outputs": [
    {
     "data": {
      "text/plain": [
       "<matplotlib.axes._subplots.AxesSubplot at 0x7f8809e28c10>"
      ]
     },
     "execution_count": 119,
     "metadata": {},
     "output_type": "execute_result"
    },
    {
     "data": {
      "image/png": "[encoded data removed]",
      "text/plain": [
       "<Figure size 432x288 with 1 Axes>"
      ]
     },
     "metadata": {},
     "output_type": "display_data"
    }
   ],
   "source": [
    "# Plot the relationship between quality and totalSulfurDioxide\n",
    "sns.barplot(x = 'quality', y = 'totalSulfurDioxide', data = wineall, palette=\"Blues_d\")"
   ]
  },
  {
   "cell_type": "code",
   "execution_count": 120,
   "metadata": {},
   "outputs": [
    {
     "data": {
      "text/plain": [
       "<matplotlib.axes._subplots.AxesSubplot at 0x7f8806d35130>"
      ]
     },
     "execution_count": 120,
     "metadata": {},
     "output_type": "execute_result"
    },
    {
     "data": {
      "image/png": "[encoded data removed]",
      "text/plain": [
       "<Figure size 432x288 with 1 Axes>"
      ]
     },
     "metadata": {},
     "output_type": "display_data"
    }
   ],
   "source": [
    "# Plot the relationship between quality and density\n",
    "sns.barplot(x = 'quality', y = 'density', data = wineall, palette=\"Blues_d\")"
   ]
  },
  {
   "cell_type": "code",
   "execution_count": 121,
   "metadata": {},
   "outputs": [
    {
     "data": {
      "text/plain": [
       "<matplotlib.axes._subplots.AxesSubplot at 0x7f880b8cab20>"
      ]
     },
     "execution_count": 121,
     "metadata": {},
     "output_type": "execute_result"
    },
    {
     "data": {
      "image/png": "[encoded data removed]",
      "text/plain": [
       "<Figure size 432x288 with 1 Axes>"
      ]
     },
     "metadata": {},
     "output_type": "display_data"
    }
   ],
   "source": [
    "# Plot the relationship between quality and pH\n",
    "sns.barplot(x = 'quality', y = 'pH', data = wineall, palette=\"Blues_d\")"
   ]
  },
  {
   "cell_type": "code",
   "execution_count": 122,
   "metadata": {},
   "outputs": [
    {
     "data": {
      "text/plain": [
       "<matplotlib.axes._subplots.AxesSubplot at 0x7f880b732220>"
      ]
     },
     "execution_count": 122,
     "metadata": {},
     "output_type": "execute_result"
    },
    {
     "data": {
      "image/png": "[encoded data removed]",
      "text/plain": [
       "<Figure size 432x288 with 1 Axes>"
      ]
     },
     "metadata": {},
     "output_type": "display_data"
    }
   ],
   "source": [
    "# Plot the relationship between quality and sulphates\n",
    "sns.barplot(x = 'quality', y = 'sulphates', data = wineall, palette=\"Blues_d\")"
   ]
  },
  {
   "cell_type": "code",
   "execution_count": 123,
   "metadata": {},
   "outputs": [
    {
     "data": {
      "text/plain": [
       "<matplotlib.axes._subplots.AxesSubplot at 0x7f87f633f3d0>"
      ]
     },
     "execution_count": 123,
     "metadata": {},
     "output_type": "execute_result"
    },
    {
     "data": {
      "image/png": "[encoded data removed]",
      "text/plain": [
       "<Figure size 432x288 with 1 Axes>"
      ]
     },
     "metadata": {},
     "output_type": "display_data"
    }
   ],
   "source": [
    "# Plot the relationship between quality and alcohol\n",
    "sns.barplot(x = 'quality', y = 'alcohol', data = wineall, palette=\"Blues_d\")"
   ]
  },
  {
   "cell_type": "code",
   "execution_count": 48,
   "metadata": {},
   "outputs": [
    {
     "data": {
      "text/html": [
       "<style  type=\"text/css\" >\n",
       "    #T_7d302db2_adfa_11eb_9a3c_8c859005b233row0_col0 {\n",
       "            background-color:  #023858;\n",
       "            color:  #f1f1f1;\n",
       "        }    #T_7d302db2_adfa_11eb_9a3c_8c859005b233row0_col1 {\n",
       "            background-color:  #e0dded;\n",
       "            color:  #000000;\n",
       "        }    #T_7d302db2_adfa_11eb_9a3c_8c859005b233row0_col2 {\n",
       "            background-color:  #05659f;\n",
       "            color:  #f1f1f1;\n",
       "        }    #T_7d302db2_adfa_11eb_9a3c_8c859005b233row0_col3 {\n",
       "            background-color:  #d9d8ea;\n",
       "            color:  #000000;\n",
       "        }    #T_7d302db2_adfa_11eb_9a3c_8c859005b233row0_col4 {\n",
       "            background-color:  #b9c6e0;\n",
       "            color:  #000000;\n",
       "        }    #T_7d302db2_adfa_11eb_9a3c_8c859005b233row0_col5 {\n",
       "            background-color:  #fff7fb;\n",
       "            color:  #000000;\n",
       "        }    #T_7d302db2_adfa_11eb_9a3c_8c859005b233row0_col6 {\n",
       "            background-color:  #ede7f2;\n",
       "            color:  #000000;\n",
       "        }    #T_7d302db2_adfa_11eb_9a3c_8c859005b233row0_col7 {\n",
       "            background-color:  #056dac;\n",
       "            color:  #f1f1f1;\n",
       "        }    #T_7d302db2_adfa_11eb_9a3c_8c859005b233row0_col8 {\n",
       "            background-color:  #fff7fb;\n",
       "            color:  #000000;\n",
       "        }    #T_7d302db2_adfa_11eb_9a3c_8c859005b233row0_col9 {\n",
       "            background-color:  #96b6d7;\n",
       "            color:  #000000;\n",
       "        }    #T_7d302db2_adfa_11eb_9a3c_8c859005b233row0_col10 {\n",
       "            background-color:  #bcc7e1;\n",
       "            color:  #000000;\n",
       "        }    #T_7d302db2_adfa_11eb_9a3c_8c859005b233row0_col11 {\n",
       "            background-color:  #a8bedc;\n",
       "            color:  #000000;\n",
       "        }    #T_7d302db2_adfa_11eb_9a3c_8c859005b233row0_col12 {\n",
       "            background-color:  #bcc7e1;\n",
       "            color:  #000000;\n",
       "        }    #T_7d302db2_adfa_11eb_9a3c_8c859005b233row1_col0 {\n",
       "            background-color:  #d4d4e8;\n",
       "            color:  #000000;\n",
       "        }    #T_7d302db2_adfa_11eb_9a3c_8c859005b233row1_col1 {\n",
       "            background-color:  #023858;\n",
       "            color:  #f1f1f1;\n",
       "        }    #T_7d302db2_adfa_11eb_9a3c_8c859005b233row1_col2 {\n",
       "            background-color:  #fff7fb;\n",
       "            color:  #000000;\n",
       "        }    #T_7d302db2_adfa_11eb_9a3c_8c859005b233row1_col3 {\n",
       "            background-color:  #f1ebf5;\n",
       "            color:  #000000;\n",
       "        }    #T_7d302db2_adfa_11eb_9a3c_8c859005b233row1_col4 {\n",
       "            background-color:  #d9d8ea;\n",
       "            color:  #000000;\n",
       "        }    #T_7d302db2_adfa_11eb_9a3c_8c859005b233row1_col5 {\n",
       "            background-color:  #e9e5f1;\n",
       "            color:  #000000;\n",
       "        }    #T_7d302db2_adfa_11eb_9a3c_8c859005b233row1_col6 {\n",
       "            background-color:  #c4cbe3;\n",
       "            color:  #000000;\n",
       "        }    #T_7d302db2_adfa_11eb_9a3c_8c859005b233row1_col7 {\n",
       "            background-color:  #bdc8e1;\n",
       "            color:  #000000;\n",
       "        }    #T_7d302db2_adfa_11eb_9a3c_8c859005b233row1_col8 {\n",
       "            background-color:  #549cc7;\n",
       "            color:  #000000;\n",
       "        }    #T_7d302db2_adfa_11eb_9a3c_8c859005b233row1_col9 {\n",
       "            background-color:  #fff7fb;\n",
       "            color:  #000000;\n",
       "        }    #T_7d302db2_adfa_11eb_9a3c_8c859005b233row1_col10 {\n",
       "            background-color:  #e1dfed;\n",
       "            color:  #000000;\n",
       "        }    #T_7d302db2_adfa_11eb_9a3c_8c859005b233row1_col11 {\n",
       "            background-color:  #fff7fb;\n",
       "            color:  #000000;\n",
       "        }    #T_7d302db2_adfa_11eb_9a3c_8c859005b233row1_col12 {\n",
       "            background-color:  #fff7fb;\n",
       "            color:  #000000;\n",
       "        }    #T_7d302db2_adfa_11eb_9a3c_8c859005b233row2_col0 {\n",
       "            background-color:  #04639b;\n",
       "            color:  #f1f1f1;\n",
       "        }    #T_7d302db2_adfa_11eb_9a3c_8c859005b233row2_col1 {\n",
       "            background-color:  #fff7fb;\n",
       "            color:  #000000;\n",
       "        }    #T_7d302db2_adfa_11eb_9a3c_8c859005b233row2_col2 {\n",
       "            background-color:  #023858;\n",
       "            color:  #f1f1f1;\n",
       "        }    #T_7d302db2_adfa_11eb_9a3c_8c859005b233row2_col3 {\n",
       "            background-color:  #d7d6e9;\n",
       "            color:  #000000;\n",
       "        }    #T_7d302db2_adfa_11eb_9a3c_8c859005b233row2_col4 {\n",
       "            background-color:  #d0d1e6;\n",
       "            color:  #000000;\n",
       "        }    #T_7d302db2_adfa_11eb_9a3c_8c859005b233row2_col5 {\n",
       "            background-color:  #f6eff7;\n",
       "            color:  #000000;\n",
       "        }    #T_7d302db2_adfa_11eb_9a3c_8c859005b233row2_col6 {\n",
       "            background-color:  #dad9ea;\n",
       "            color:  #000000;\n",
       "        }    #T_7d302db2_adfa_11eb_9a3c_8c859005b233row2_col7 {\n",
       "            background-color:  #549cc7;\n",
       "            color:  #000000;\n",
       "        }    #T_7d302db2_adfa_11eb_9a3c_8c859005b233row2_col8 {\n",
       "            background-color:  #efe9f3;\n",
       "            color:  #000000;\n",
       "        }    #T_7d302db2_adfa_11eb_9a3c_8c859005b233row2_col9 {\n",
       "            background-color:  #7bacd1;\n",
       "            color:  #000000;\n",
       "        }    #T_7d302db2_adfa_11eb_9a3c_8c859005b233row2_col10 {\n",
       "            background-color:  #8eb3d5;\n",
       "            color:  #000000;\n",
       "        }    #T_7d302db2_adfa_11eb_9a3c_8c859005b233row2_col11 {\n",
       "            background-color:  #8bb2d4;\n",
       "            color:  #000000;\n",
       "        }    #T_7d302db2_adfa_11eb_9a3c_8c859005b233row2_col12 {\n",
       "            background-color:  #a1bbda;\n",
       "            color:  #000000;\n",
       "        }    #T_7d302db2_adfa_11eb_9a3c_8c859005b233row3_col0 {\n",
       "            background-color:  #6fa7ce;\n",
       "            color:  #000000;\n",
       "        }    #T_7d302db2_adfa_11eb_9a3c_8c859005b233row3_col1 {\n",
       "            background-color:  #9fbad9;\n",
       "            color:  #000000;\n",
       "        }    #T_7d302db2_adfa_11eb_9a3c_8c859005b233row3_col2 {\n",
       "            background-color:  #7dacd1;\n",
       "            color:  #000000;\n",
       "        }    #T_7d302db2_adfa_11eb_9a3c_8c859005b233row3_col3 {\n",
       "            background-color:  #023858;\n",
       "            color:  #f1f1f1;\n",
       "        }    #T_7d302db2_adfa_11eb_9a3c_8c859005b233row3_col4 {\n",
       "            background-color:  #cacee5;\n",
       "            color:  #000000;\n",
       "        }    #T_7d302db2_adfa_11eb_9a3c_8c859005b233row3_col5 {\n",
       "            background-color:  #eae6f1;\n",
       "            color:  #000000;\n",
       "        }    #T_7d302db2_adfa_11eb_9a3c_8c859005b233row3_col6 {\n",
       "            background-color:  #c2cbe2;\n",
       "            color:  #000000;\n",
       "        }    #T_7d302db2_adfa_11eb_9a3c_8c859005b233row3_col7 {\n",
       "            background-color:  #60a1ca;\n",
       "            color:  #000000;\n",
       "        }    #T_7d302db2_adfa_11eb_9a3c_8c859005b233row3_col8 {\n",
       "            background-color:  #a7bddb;\n",
       "            color:  #000000;\n",
       "        }    #T_7d302db2_adfa_11eb_9a3c_8c859005b233row3_col9 {\n",
       "            background-color:  #bcc7e1;\n",
       "            color:  #000000;\n",
       "        }    #T_7d302db2_adfa_11eb_9a3c_8c859005b233row3_col10 {\n",
       "            background-color:  #8fb4d6;\n",
       "            color:  #000000;\n",
       "        }    #T_7d302db2_adfa_11eb_9a3c_8c859005b233row3_col11 {\n",
       "            background-color:  #c0c9e2;\n",
       "            color:  #000000;\n",
       "        }    #T_7d302db2_adfa_11eb_9a3c_8c859005b233row3_col12 {\n",
       "            background-color:  #c1cae2;\n",
       "            color:  #000000;\n",
       "        }    #T_7d302db2_adfa_11eb_9a3c_8c859005b233row4_col0 {\n",
       "            background-color:  #69a5cc;\n",
       "            color:  #000000;\n",
       "        }    #T_7d302db2_adfa_11eb_9a3c_8c859005b233row4_col1 {\n",
       "            background-color:  #97b7d7;\n",
       "            color:  #000000;\n",
       "        }    #T_7d302db2_adfa_11eb_9a3c_8c859005b233row4_col2 {\n",
       "            background-color:  #8cb3d5;\n",
       "            color:  #000000;\n",
       "        }    #T_7d302db2_adfa_11eb_9a3c_8c859005b233row4_col3 {\n",
       "            background-color:  #e0deed;\n",
       "            color:  #000000;\n",
       "        }    #T_7d302db2_adfa_11eb_9a3c_8c859005b233row4_col4 {\n",
       "            background-color:  #023858;\n",
       "            color:  #f1f1f1;\n",
       "        }    #T_7d302db2_adfa_11eb_9a3c_8c859005b233row4_col5 {\n",
       "            background-color:  #f3edf5;\n",
       "            color:  #000000;\n",
       "        }    #T_7d302db2_adfa_11eb_9a3c_8c859005b233row4_col6 {\n",
       "            background-color:  #d1d2e6;\n",
       "            color:  #000000;\n",
       "        }    #T_7d302db2_adfa_11eb_9a3c_8c859005b233row4_col7 {\n",
       "            background-color:  #62a2cb;\n",
       "            color:  #000000;\n",
       "        }    #T_7d302db2_adfa_11eb_9a3c_8c859005b233row4_col8 {\n",
       "            background-color:  #bdc8e1;\n",
       "            color:  #000000;\n",
       "        }    #T_7d302db2_adfa_11eb_9a3c_8c859005b233row4_col9 {\n",
       "            background-color:  #c5cce3;\n",
       "            color:  #000000;\n",
       "        }    #T_7d302db2_adfa_11eb_9a3c_8c859005b233row4_col10 {\n",
       "            background-color:  #e0dded;\n",
       "            color:  #000000;\n",
       "        }    #T_7d302db2_adfa_11eb_9a3c_8c859005b233row4_col11 {\n",
       "            background-color:  #e0deed;\n",
       "            color:  #000000;\n",
       "        }    #T_7d302db2_adfa_11eb_9a3c_8c859005b233row4_col12 {\n",
       "            background-color:  #ece7f2;\n",
       "            color:  #000000;\n",
       "        }    #T_7d302db2_adfa_11eb_9a3c_8c859005b233row5_col0 {\n",
       "            background-color:  #b7c5df;\n",
       "            color:  #000000;\n",
       "        }    #T_7d302db2_adfa_11eb_9a3c_8c859005b233row5_col1 {\n",
       "            background-color:  #a4bcda;\n",
       "            color:  #000000;\n",
       "        }    #T_7d302db2_adfa_11eb_9a3c_8c859005b233row5_col2 {\n",
       "            background-color:  #b7c5df;\n",
       "            color:  #000000;\n",
       "        }    #T_7d302db2_adfa_11eb_9a3c_8c859005b233row5_col3 {\n",
       "            background-color:  #f5eef6;\n",
       "            color:  #000000;\n",
       "        }    #T_7d302db2_adfa_11eb_9a3c_8c859005b233row5_col4 {\n",
       "            background-color:  #eee8f3;\n",
       "            color:  #000000;\n",
       "        }    #T_7d302db2_adfa_11eb_9a3c_8c859005b233row5_col5 {\n",
       "            background-color:  #023858;\n",
       "            color:  #f1f1f1;\n",
       "        }    #T_7d302db2_adfa_11eb_9a3c_8c859005b233row5_col6 {\n",
       "            background-color:  #0f76b3;\n",
       "            color:  #f1f1f1;\n",
       "        }    #T_7d302db2_adfa_11eb_9a3c_8c859005b233row5_col7 {\n",
       "            background-color:  #c4cbe3;\n",
       "            color:  #000000;\n",
       "        }    #T_7d302db2_adfa_11eb_9a3c_8c859005b233row5_col8 {\n",
       "            background-color:  #7bacd1;\n",
       "            color:  #000000;\n",
       "        }    #T_7d302db2_adfa_11eb_9a3c_8c859005b233row5_col9 {\n",
       "            background-color:  #bfc9e1;\n",
       "            color:  #000000;\n",
       "        }    #T_7d302db2_adfa_11eb_9a3c_8c859005b233row5_col10 {\n",
       "            background-color:  #cacee5;\n",
       "            color:  #000000;\n",
       "        }    #T_7d302db2_adfa_11eb_9a3c_8c859005b233row5_col11 {\n",
       "            background-color:  #d4d4e8;\n",
       "            color:  #000000;\n",
       "        }    #T_7d302db2_adfa_11eb_9a3c_8c859005b233row5_col12 {\n",
       "            background-color:  #e7e3f0;\n",
       "            color:  #000000;\n",
       "        }    #T_7d302db2_adfa_11eb_9a3c_8c859005b233row6_col0 {\n",
       "            background-color:  #adc1dd;\n",
       "            color:  #000000;\n",
       "        }    #T_7d302db2_adfa_11eb_9a3c_8c859005b233row6_col1 {\n",
       "            background-color:  #8cb3d5;\n",
       "            color:  #000000;\n",
       "        }    #T_7d302db2_adfa_11eb_9a3c_8c859005b233row6_col2 {\n",
       "            background-color:  #a7bddb;\n",
       "            color:  #000000;\n",
       "        }    #T_7d302db2_adfa_11eb_9a3c_8c859005b233row6_col3 {\n",
       "            background-color:  #e3e0ee;\n",
       "            color:  #000000;\n",
       "        }    #T_7d302db2_adfa_11eb_9a3c_8c859005b233row6_col4 {\n",
       "            background-color:  #d9d8ea;\n",
       "            color:  #000000;\n",
       "        }    #T_7d302db2_adfa_11eb_9a3c_8c859005b233row6_col5 {\n",
       "            background-color:  #197db7;\n",
       "            color:  #000000;\n",
       "        }    #T_7d302db2_adfa_11eb_9a3c_8c859005b233row6_col6 {\n",
       "            background-color:  #023858;\n",
       "            color:  #f1f1f1;\n",
       "        }    #T_7d302db2_adfa_11eb_9a3c_8c859005b233row6_col7 {\n",
       "            background-color:  #9ab8d8;\n",
       "            color:  #000000;\n",
       "        }    #T_7d302db2_adfa_11eb_9a3c_8c859005b233row6_col8 {\n",
       "            background-color:  #96b6d7;\n",
       "            color:  #000000;\n",
       "        }    #T_7d302db2_adfa_11eb_9a3c_8c859005b233row6_col9 {\n",
       "            background-color:  #d5d5e8;\n",
       "            color:  #000000;\n",
       "        }    #T_7d302db2_adfa_11eb_9a3c_8c859005b233row6_col10 {\n",
       "            background-color:  #e9e5f1;\n",
       "            color:  #000000;\n",
       "        }    #T_7d302db2_adfa_11eb_9a3c_8c859005b233row6_col11 {\n",
       "            background-color:  #eee9f3;\n",
       "            color:  #000000;\n",
       "        }    #T_7d302db2_adfa_11eb_9a3c_8c859005b233row6_col12 {\n",
       "            background-color:  #f4eef6;\n",
       "            color:  #000000;\n",
       "        }    #T_7d302db2_adfa_11eb_9a3c_8c859005b233row7_col0 {\n",
       "            background-color:  #0568a3;\n",
       "            color:  #f1f1f1;\n",
       "        }    #T_7d302db2_adfa_11eb_9a3c_8c859005b233row7_col1 {\n",
       "            background-color:  #a9bfdc;\n",
       "            color:  #000000;\n",
       "        }    #T_7d302db2_adfa_11eb_9a3c_8c859005b233row7_col2 {\n",
       "            background-color:  #4094c3;\n",
       "            color:  #000000;\n",
       "        }    #T_7d302db2_adfa_11eb_9a3c_8c859005b233row7_col3 {\n",
       "            background-color:  #a7bddb;\n",
       "            color:  #000000;\n",
       "        }    #T_7d302db2_adfa_11eb_9a3c_8c859005b233row7_col4 {\n",
       "            background-color:  #8fb4d6;\n",
       "            color:  #000000;\n",
       "        }    #T_7d302db2_adfa_11eb_9a3c_8c859005b233row7_col5 {\n",
       "            background-color:  #f1ebf4;\n",
       "            color:  #000000;\n",
       "        }    #T_7d302db2_adfa_11eb_9a3c_8c859005b233row7_col6 {\n",
       "            background-color:  #bdc8e1;\n",
       "            color:  #000000;\n",
       "        }    #T_7d302db2_adfa_11eb_9a3c_8c859005b233row7_col7 {\n",
       "            background-color:  #023858;\n",
       "            color:  #f1f1f1;\n",
       "        }    #T_7d302db2_adfa_11eb_9a3c_8c859005b233row7_col8 {\n",
       "            background-color:  #d3d4e7;\n",
       "            color:  #000000;\n",
       "        }    #T_7d302db2_adfa_11eb_9a3c_8c859005b233row7_col9 {\n",
       "            background-color:  #a9bfdc;\n",
       "            color:  #000000;\n",
       "        }    #T_7d302db2_adfa_11eb_9a3c_8c859005b233row7_col10 {\n",
       "            background-color:  #fff7fb;\n",
       "            color:  #000000;\n",
       "        }    #T_7d302db2_adfa_11eb_9a3c_8c859005b233row7_col11 {\n",
       "            background-color:  #e9e5f1;\n",
       "            color:  #000000;\n",
       "        }    #T_7d302db2_adfa_11eb_9a3c_8c859005b233row7_col12 {\n",
       "            background-color:  #f1ebf5;\n",
       "            color:  #000000;\n",
       "        }    #T_7d302db2_adfa_11eb_9a3c_8c859005b233row8_col0 {\n",
       "            background-color:  #fff7fb;\n",
       "            color:  #000000;\n",
       "        }    #T_7d302db2_adfa_11eb_9a3c_8c859005b233row8_col1 {\n",
       "            background-color:  #62a2cb;\n",
       "            color:  #000000;\n",
       "        }    #T_7d302db2_adfa_11eb_9a3c_8c859005b233row8_col2 {\n",
       "            background-color:  #f8f1f8;\n",
       "            color:  #000000;\n",
       "        }    #T_7d302db2_adfa_11eb_9a3c_8c859005b233row8_col3 {\n",
       "            background-color:  #fff7fb;\n",
       "            color:  #000000;\n",
       "        }    #T_7d302db2_adfa_11eb_9a3c_8c859005b233row8_col4 {\n",
       "            background-color:  #fef6fa;\n",
       "            color:  #000000;\n",
       "        }    #T_7d302db2_adfa_11eb_9a3c_8c859005b233row8_col5 {\n",
       "            background-color:  #d4d4e8;\n",
       "            color:  #000000;\n",
       "        }    #T_7d302db2_adfa_11eb_9a3c_8c859005b233row8_col6 {\n",
       "            background-color:  #d9d8ea;\n",
       "            color:  #000000;\n",
       "        }    #T_7d302db2_adfa_11eb_9a3c_8c859005b233row8_col7 {\n",
       "            background-color:  #efe9f3;\n",
       "            color:  #000000;\n",
       "        }    #T_7d302db2_adfa_11eb_9a3c_8c859005b233row8_col8 {\n",
       "            background-color:  #023858;\n",
       "            color:  #f1f1f1;\n",
       "        }    #T_7d302db2_adfa_11eb_9a3c_8c859005b233row8_col9 {\n",
       "            background-color:  #d5d5e8;\n",
       "            color:  #000000;\n",
       "        }    #T_7d302db2_adfa_11eb_9a3c_8c859005b233row8_col10 {\n",
       "            background-color:  #9ebad9;\n",
       "            color:  #000000;\n",
       "        }    #T_7d302db2_adfa_11eb_9a3c_8c859005b233row8_col11 {\n",
       "            background-color:  #dcdaeb;\n",
       "            color:  #000000;\n",
       "        }    #T_7d302db2_adfa_11eb_9a3c_8c859005b233row8_col12 {\n",
       "            background-color:  #e8e4f0;\n",
       "            color:  #000000;\n",
       "        }    #T_7d302db2_adfa_11eb_9a3c_8c859005b233row9_col0 {\n",
       "            background-color:  #62a2cb;\n",
       "            color:  #000000;\n",
       "        }    #T_7d302db2_adfa_11eb_9a3c_8c859005b233row9_col1 {\n",
       "            background-color:  #e6e2ef;\n",
       "            color:  #000000;\n",
       "        }    #T_7d302db2_adfa_11eb_9a3c_8c859005b233row9_col2 {\n",
       "            background-color:  #549cc7;\n",
       "            color:  #000000;\n",
       "        }    #T_7d302db2_adfa_11eb_9a3c_8c859005b233row9_col3 {\n",
       "            background-color:  #ebe6f2;\n",
       "            color:  #000000;\n",
       "        }    #T_7d302db2_adfa_11eb_9a3c_8c859005b233row9_col4 {\n",
       "            background-color:  #dddbec;\n",
       "            color:  #000000;\n",
       "        }    #T_7d302db2_adfa_11eb_9a3c_8c859005b233row9_col5 {\n",
       "            background-color:  #e0dded;\n",
       "            color:  #000000;\n",
       "        }    #T_7d302db2_adfa_11eb_9a3c_8c859005b233row9_col6 {\n",
       "            background-color:  #e2dfee;\n",
       "            color:  #000000;\n",
       "        }    #T_7d302db2_adfa_11eb_9a3c_8c859005b233row9_col7 {\n",
       "            background-color:  #97b7d7;\n",
       "            color:  #000000;\n",
       "        }    #T_7d302db2_adfa_11eb_9a3c_8c859005b233row9_col8 {\n",
       "            background-color:  #a1bbda;\n",
       "            color:  #000000;\n",
       "        }    #T_7d302db2_adfa_11eb_9a3c_8c859005b233row9_col9 {\n",
       "            background-color:  #023858;\n",
       "            color:  #f1f1f1;\n",
       "        }    #T_7d302db2_adfa_11eb_9a3c_8c859005b233row9_col10 {\n",
       "            background-color:  #7eadd1;\n",
       "            color:  #000000;\n",
       "        }    #T_7d302db2_adfa_11eb_9a3c_8c859005b233row9_col11 {\n",
       "            background-color:  #5ea0ca;\n",
       "            color:  #000000;\n",
       "        }    #T_7d302db2_adfa_11eb_9a3c_8c859005b233row9_col12 {\n",
       "            background-color:  #89b1d4;\n",
       "            color:  #000000;\n",
       "        }    #T_7d302db2_adfa_11eb_9a3c_8c859005b233row10_col0 {\n",
       "            background-color:  #97b7d7;\n",
       "            color:  #000000;\n",
       "        }    #T_7d302db2_adfa_11eb_9a3c_8c859005b233row10_col1 {\n",
       "            background-color:  #d2d2e7;\n",
       "            color:  #000000;\n",
       "        }    #T_7d302db2_adfa_11eb_9a3c_8c859005b233row10_col2 {\n",
       "            background-color:  #7bacd1;\n",
       "            color:  #000000;\n",
       "        }    #T_7d302db2_adfa_11eb_9a3c_8c859005b233row10_col3 {\n",
       "            background-color:  #d7d6e9;\n",
       "            color:  #000000;\n",
       "        }    #T_7d302db2_adfa_11eb_9a3c_8c859005b233row10_col4 {\n",
       "            background-color:  #fff7fb;\n",
       "            color:  #000000;\n",
       "        }    #T_7d302db2_adfa_11eb_9a3c_8c859005b233row10_col5 {\n",
       "            background-color:  #f4eef6;\n",
       "            color:  #000000;\n",
       "        }    #T_7d302db2_adfa_11eb_9a3c_8c859005b233row10_col6 {\n",
       "            background-color:  #fff7fb;\n",
       "            color:  #000000;\n",
       "        }    #T_7d302db2_adfa_11eb_9a3c_8c859005b233row10_col7 {\n",
       "            background-color:  #fff7fb;\n",
       "            color:  #000000;\n",
       "        }    #T_7d302db2_adfa_11eb_9a3c_8c859005b233row10_col8 {\n",
       "            background-color:  #7bacd1;\n",
       "            color:  #000000;\n",
       "        }    #T_7d302db2_adfa_11eb_9a3c_8c859005b233row10_col9 {\n",
       "            background-color:  #8fb4d6;\n",
       "            color:  #000000;\n",
       "        }    #T_7d302db2_adfa_11eb_9a3c_8c859005b233row10_col10 {\n",
       "            background-color:  #023858;\n",
       "            color:  #f1f1f1;\n",
       "        }    #T_7d302db2_adfa_11eb_9a3c_8c859005b233row10_col11 {\n",
       "            background-color:  #358fc0;\n",
       "            color:  #000000;\n",
       "        }    #T_7d302db2_adfa_11eb_9a3c_8c859005b233row10_col12 {\n",
       "            background-color:  #60a1ca;\n",
       "            color:  #000000;\n",
       "        }    #T_7d302db2_adfa_11eb_9a3c_8c859005b233row11_col0 {\n",
       "            background-color:  #76aad0;\n",
       "            color:  #000000;\n",
       "        }    #T_7d302db2_adfa_11eb_9a3c_8c859005b233row11_col1 {\n",
       "            background-color:  #e7e3f0;\n",
       "            color:  #000000;\n",
       "        }    #T_7d302db2_adfa_11eb_9a3c_8c859005b233row11_col2 {\n",
       "            background-color:  #67a4cc;\n",
       "            color:  #000000;\n",
       "        }    #T_7d302db2_adfa_11eb_9a3c_8c859005b233row11_col3 {\n",
       "            background-color:  #f0eaf4;\n",
       "            color:  #000000;\n",
       "        }    #T_7d302db2_adfa_11eb_9a3c_8c859005b233row11_col4 {\n",
       "            background-color:  #f6eff7;\n",
       "            color:  #000000;\n",
       "        }    #T_7d302db2_adfa_11eb_9a3c_8c859005b233row11_col5 {\n",
       "            background-color:  #f2ecf5;\n",
       "            color:  #000000;\n",
       "        }    #T_7d302db2_adfa_11eb_9a3c_8c859005b233row11_col6 {\n",
       "            background-color:  #faf2f8;\n",
       "            color:  #000000;\n",
       "        }    #T_7d302db2_adfa_11eb_9a3c_8c859005b233row11_col7 {\n",
       "            background-color:  #dddbec;\n",
       "            color:  #000000;\n",
       "        }    #T_7d302db2_adfa_11eb_9a3c_8c859005b233row11_col8 {\n",
       "            background-color:  #acc0dd;\n",
       "            color:  #000000;\n",
       "        }    #T_7d302db2_adfa_11eb_9a3c_8c859005b233row11_col9 {\n",
       "            background-color:  #60a1ca;\n",
       "            color:  #000000;\n",
       "        }    #T_7d302db2_adfa_11eb_9a3c_8c859005b233row11_col10 {\n",
       "            background-color:  #2c89bd;\n",
       "            color:  #000000;\n",
       "        }    #T_7d302db2_adfa_11eb_9a3c_8c859005b233row11_col11 {\n",
       "            background-color:  #023858;\n",
       "            color:  #f1f1f1;\n",
       "        }    #T_7d302db2_adfa_11eb_9a3c_8c859005b233row11_col12 {\n",
       "            background-color:  #056caa;\n",
       "            color:  #f1f1f1;\n",
       "        }    #T_7d302db2_adfa_11eb_9a3c_8c859005b233row12_col0 {\n",
       "            background-color:  #79abd0;\n",
       "            color:  #000000;\n",
       "        }    #T_7d302db2_adfa_11eb_9a3c_8c859005b233row12_col1 {\n",
       "            background-color:  #dad9ea;\n",
       "            color:  #000000;\n",
       "        }    #T_7d302db2_adfa_11eb_9a3c_8c859005b233row12_col2 {\n",
       "            background-color:  #6da6cd;\n",
       "            color:  #000000;\n",
       "        }    #T_7d302db2_adfa_11eb_9a3c_8c859005b233row12_col3 {\n",
       "            background-color:  #e4e1ef;\n",
       "            color:  #000000;\n",
       "        }    #T_7d302db2_adfa_11eb_9a3c_8c859005b233row12_col4 {\n",
       "            background-color:  #f4edf6;\n",
       "            color:  #000000;\n",
       "        }    #T_7d302db2_adfa_11eb_9a3c_8c859005b233row12_col5 {\n",
       "            background-color:  #f6eff7;\n",
       "            color:  #000000;\n",
       "        }    #T_7d302db2_adfa_11eb_9a3c_8c859005b233row12_col6 {\n",
       "            background-color:  #f5eff6;\n",
       "            color:  #000000;\n",
       "        }    #T_7d302db2_adfa_11eb_9a3c_8c859005b233row12_col7 {\n",
       "            background-color:  #d9d8ea;\n",
       "            color:  #000000;\n",
       "        }    #T_7d302db2_adfa_11eb_9a3c_8c859005b233row12_col8 {\n",
       "            background-color:  #abbfdc;\n",
       "            color:  #000000;\n",
       "        }    #T_7d302db2_adfa_11eb_9a3c_8c859005b233row12_col9 {\n",
       "            background-color:  #7bacd1;\n",
       "            color:  #000000;\n",
       "        }    #T_7d302db2_adfa_11eb_9a3c_8c859005b233row12_col10 {\n",
       "            background-color:  #4295c3;\n",
       "            color:  #000000;\n",
       "        }    #T_7d302db2_adfa_11eb_9a3c_8c859005b233row12_col11 {\n",
       "            background-color:  #0569a5;\n",
       "            color:  #f1f1f1;\n",
       "        }    #T_7d302db2_adfa_11eb_9a3c_8c859005b233row12_col12 {\n",
       "            background-color:  #023858;\n",
       "            color:  #f1f1f1;\n",
       "        }</style><table id=\"T_7d302db2_adfa_11eb_9a3c_8c859005b233\" ><thead>    <tr>        <th class=\"blank level0\" ></th>        <th class=\"col_heading level0 col0\" >fixedAcidity</th>        <th class=\"col_heading level0 col1\" >volatileAcidity</th>        <th class=\"col_heading level0 col2\" >citricAcid</th>        <th class=\"col_heading level0 col3\" >residualSugar</th>        <th class=\"col_heading level0 col4\" >chlorides</th>        <th class=\"col_heading level0 col5\" >freeSulfurDioxide</th>        <th class=\"col_heading level0 col6\" >totalSulfurDioxide</th>        <th class=\"col_heading level0 col7\" >density</th>        <th class=\"col_heading level0 col8\" >pH</th>        <th class=\"col_heading level0 col9\" >sulphates</th>        <th class=\"col_heading level0 col10\" >alcohol</th>        <th class=\"col_heading level0 col11\" >quality</th>        <th class=\"col_heading level0 col12\" >goodqual</th>    </tr></thead><tbody>\n",
       "                <tr>\n",
       "                        <th id=\"T_7d302db2_adfa_11eb_9a3c_8c859005b233level0_row0\" class=\"row_heading level0 row0\" >fixedAcidity</th>\n",
       "                        <td id=\"T_7d302db2_adfa_11eb_9a3c_8c859005b233row0_col0\" class=\"data row0 col0\" >1.000000</td>\n",
       "                        <td id=\"T_7d302db2_adfa_11eb_9a3c_8c859005b233row0_col1\" class=\"data row0 col1\" >-0.306366</td>\n",
       "                        <td id=\"T_7d302db2_adfa_11eb_9a3c_8c859005b233row0_col2\" class=\"data row0 col2\" >0.700109</td>\n",
       "                        <td id=\"T_7d302db2_adfa_11eb_9a3c_8c859005b233row0_col3\" class=\"data row0 col3\" >0.162761</td>\n",
       "                        <td id=\"T_7d302db2_adfa_11eb_9a3c_8c859005b233row0_col4\" class=\"data row0 col4\" >0.187754</td>\n",
       "                        <td id=\"T_7d302db2_adfa_11eb_9a3c_8c859005b233row0_col5\" class=\"data row0 col5\" >-0.147458</td>\n",
       "                        <td id=\"T_7d302db2_adfa_11eb_9a3c_8c859005b233row0_col6\" class=\"data row0 col6\" >-0.102858</td>\n",
       "                        <td id=\"T_7d302db2_adfa_11eb_9a3c_8c859005b233row0_col7\" class=\"data row0 col7\" >0.654050</td>\n",
       "                        <td id=\"T_7d302db2_adfa_11eb_9a3c_8c859005b233row0_col8\" class=\"data row0 col8\" >-0.702895</td>\n",
       "                        <td id=\"T_7d302db2_adfa_11eb_9a3c_8c859005b233row0_col9\" class=\"data row0 col9\" >0.213094</td>\n",
       "                        <td id=\"T_7d302db2_adfa_11eb_9a3c_8c859005b233row0_col10\" class=\"data row0 col10\" >-0.003372</td>\n",
       "                        <td id=\"T_7d302db2_adfa_11eb_9a3c_8c859005b233row0_col11\" class=\"data row0 col11\" >0.139373</td>\n",
       "                        <td id=\"T_7d302db2_adfa_11eb_9a3c_8c859005b233row0_col12\" class=\"data row0 col12\" >0.127630</td>\n",
       "            </tr>\n",
       "            <tr>\n",
       "                        <th id=\"T_7d302db2_adfa_11eb_9a3c_8c859005b233level0_row1\" class=\"row_heading level0 row1\" >volatileAcidity</th>\n",
       "                        <td id=\"T_7d302db2_adfa_11eb_9a3c_8c859005b233row1_col0\" class=\"data row1 col0\" >-0.306366</td>\n",
       "                        <td id=\"T_7d302db2_adfa_11eb_9a3c_8c859005b233row1_col1\" class=\"data row1 col1\" >1.000000</td>\n",
       "                        <td id=\"T_7d302db2_adfa_11eb_9a3c_8c859005b233row1_col2\" class=\"data row1 col2\" >-0.595703</td>\n",
       "                        <td id=\"T_7d302db2_adfa_11eb_9a3c_8c859005b233row1_col3\" class=\"data row1 col3\" >0.029931</td>\n",
       "                        <td id=\"T_7d302db2_adfa_11eb_9a3c_8c859005b233row1_col4\" class=\"data row1 col4\" >0.060373</td>\n",
       "                        <td id=\"T_7d302db2_adfa_11eb_9a3c_8c859005b233row1_col5\" class=\"data row1 col5\" >0.009691</td>\n",
       "                        <td id=\"T_7d302db2_adfa_11eb_9a3c_8c859005b233row1_col6\" class=\"data row1 col6\" >0.105180</td>\n",
       "                        <td id=\"T_7d302db2_adfa_11eb_9a3c_8c859005b233row1_col7\" class=\"data row1 col7\" >-0.010116</td>\n",
       "                        <td id=\"T_7d302db2_adfa_11eb_9a3c_8c859005b233row1_col8\" class=\"data row1 col8\" >0.260406</td>\n",
       "                        <td id=\"T_7d302db2_adfa_11eb_9a3c_8c859005b233row1_col9\" class=\"data row1 col9\" >-0.348036</td>\n",
       "                        <td id=\"T_7d302db2_adfa_11eb_9a3c_8c859005b233row1_col10\" class=\"data row1 col10\" >-0.206550</td>\n",
       "                        <td id=\"T_7d302db2_adfa_11eb_9a3c_8c859005b233row1_col11\" class=\"data row1 col11\" >-0.363495</td>\n",
       "                        <td id=\"T_7d302db2_adfa_11eb_9a3c_8c859005b233row1_col12\" class=\"data row1 col12\" >-0.266701</td>\n",
       "            </tr>\n",
       "            <tr>\n",
       "                        <th id=\"T_7d302db2_adfa_11eb_9a3c_8c859005b233level0_row2\" class=\"row_heading level0 row2\" >citricAcid</th>\n",
       "                        <td id=\"T_7d302db2_adfa_11eb_9a3c_8c859005b233row2_col0\" class=\"data row2 col0\" >0.700109</td>\n",
       "                        <td id=\"T_7d302db2_adfa_11eb_9a3c_8c859005b233row2_col1\" class=\"data row2 col1\" >-0.595703</td>\n",
       "                        <td id=\"T_7d302db2_adfa_11eb_9a3c_8c859005b233row2_col2\" class=\"data row2 col2\" >1.000000</td>\n",
       "                        <td id=\"T_7d302db2_adfa_11eb_9a3c_8c859005b233row2_col3\" class=\"data row2 col3\" >0.170748</td>\n",
       "                        <td id=\"T_7d302db2_adfa_11eb_9a3c_8c859005b233row2_col4\" class=\"data row2 col4\" >0.104875</td>\n",
       "                        <td id=\"T_7d302db2_adfa_11eb_9a3c_8c859005b233row2_col5\" class=\"data row2 col5\" >-0.077671</td>\n",
       "                        <td id=\"T_7d302db2_adfa_11eb_9a3c_8c859005b233row2_col6\" class=\"data row2 col6\" >0.000973</td>\n",
       "                        <td id=\"T_7d302db2_adfa_11eb_9a3c_8c859005b233row2_col7\" class=\"data row2 col7\" >0.367649</td>\n",
       "                        <td id=\"T_7d302db2_adfa_11eb_9a3c_8c859005b233row2_col8\" class=\"data row2 col8\" >-0.518027</td>\n",
       "                        <td id=\"T_7d302db2_adfa_11eb_9a3c_8c859005b233row2_col9\" class=\"data row2 col9\" >0.303163</td>\n",
       "                        <td id=\"T_7d302db2_adfa_11eb_9a3c_8c859005b233row2_col10\" class=\"data row2 col10\" >0.175982</td>\n",
       "                        <td id=\"T_7d302db2_adfa_11eb_9a3c_8c859005b233row2_col11\" class=\"data row2 col11\" >0.240377</td>\n",
       "                        <td id=\"T_7d302db2_adfa_11eb_9a3c_8c859005b233row2_col12\" class=\"data row2 col12\" >0.226815</td>\n",
       "            </tr>\n",
       "            <tr>\n",
       "                        <th id=\"T_7d302db2_adfa_11eb_9a3c_8c859005b233level0_row3\" class=\"row_heading level0 row3\" >residualSugar</th>\n",
       "                        <td id=\"T_7d302db2_adfa_11eb_9a3c_8c859005b233row3_col0\" class=\"data row3 col0\" >0.162761</td>\n",
       "                        <td id=\"T_7d302db2_adfa_11eb_9a3c_8c859005b233row3_col1\" class=\"data row3 col1\" >0.029931</td>\n",
       "                        <td id=\"T_7d302db2_adfa_11eb_9a3c_8c859005b233row3_col2\" class=\"data row3 col2\" >0.170748</td>\n",
       "                        <td id=\"T_7d302db2_adfa_11eb_9a3c_8c859005b233row3_col3\" class=\"data row3 col3\" >1.000000</td>\n",
       "                        <td id=\"T_7d302db2_adfa_11eb_9a3c_8c859005b233row3_col4\" class=\"data row3 col4\" >0.125239</td>\n",
       "                        <td id=\"T_7d302db2_adfa_11eb_9a3c_8c859005b233row3_col5\" class=\"data row3 col5\" >0.005004</td>\n",
       "                        <td id=\"T_7d302db2_adfa_11eb_9a3c_8c859005b233row3_col6\" class=\"data row3 col6\" >0.110947</td>\n",
       "                        <td id=\"T_7d302db2_adfa_11eb_9a3c_8c859005b233row3_col7\" class=\"data row3 col7\" >0.333367</td>\n",
       "                        <td id=\"T_7d302db2_adfa_11eb_9a3c_8c859005b233row3_col8\" class=\"data row3 col8\" >-0.065859</td>\n",
       "                        <td id=\"T_7d302db2_adfa_11eb_9a3c_8c859005b233row3_col9\" class=\"data row3 col9\" >0.073164</td>\n",
       "                        <td id=\"T_7d302db2_adfa_11eb_9a3c_8c859005b233row3_col10\" class=\"data row3 col10\" >0.171213</td>\n",
       "                        <td id=\"T_7d302db2_adfa_11eb_9a3c_8c859005b233row3_col11\" class=\"data row3 col11\" >0.044278</td>\n",
       "                        <td id=\"T_7d302db2_adfa_11eb_9a3c_8c859005b233row3_col12\" class=\"data row3 col12\" >0.107269</td>\n",
       "            </tr>\n",
       "            <tr>\n",
       "                        <th id=\"T_7d302db2_adfa_11eb_9a3c_8c859005b233level0_row4\" class=\"row_heading level0 row4\" >chlorides</th>\n",
       "                        <td id=\"T_7d302db2_adfa_11eb_9a3c_8c859005b233row4_col0\" class=\"data row4 col0\" >0.187754</td>\n",
       "                        <td id=\"T_7d302db2_adfa_11eb_9a3c_8c859005b233row4_col1\" class=\"data row4 col1\" >0.060373</td>\n",
       "                        <td id=\"T_7d302db2_adfa_11eb_9a3c_8c859005b233row4_col2\" class=\"data row4 col2\" >0.104875</td>\n",
       "                        <td id=\"T_7d302db2_adfa_11eb_9a3c_8c859005b233row4_col3\" class=\"data row4 col3\" >0.125239</td>\n",
       "                        <td id=\"T_7d302db2_adfa_11eb_9a3c_8c859005b233row4_col4\" class=\"data row4 col4\" >1.000000</td>\n",
       "                        <td id=\"T_7d302db2_adfa_11eb_9a3c_8c859005b233row4_col5\" class=\"data row4 col5\" >-0.054352</td>\n",
       "                        <td id=\"T_7d302db2_adfa_11eb_9a3c_8c859005b233row4_col6\" class=\"data row4 col6\" >0.053213</td>\n",
       "                        <td id=\"T_7d302db2_adfa_11eb_9a3c_8c859005b233row4_col7\" class=\"data row4 col7\" >0.323629</td>\n",
       "                        <td id=\"T_7d302db2_adfa_11eb_9a3c_8c859005b233row4_col8\" class=\"data row4 col8\" >-0.183580</td>\n",
       "                        <td id=\"T_7d302db2_adfa_11eb_9a3c_8c859005b233row4_col9\" class=\"data row4 col9\" >0.035601</td>\n",
       "                        <td id=\"T_7d302db2_adfa_11eb_9a3c_8c859005b233row4_col10\" class=\"data row4 col10\" >-0.194123</td>\n",
       "                        <td id=\"T_7d302db2_adfa_11eb_9a3c_8c859005b233row4_col11\" class=\"data row4 col11\" >-0.122765</td>\n",
       "                        <td id=\"T_7d302db2_adfa_11eb_9a3c_8c859005b233row4_col12\" class=\"data row4 col12\" >-0.103790</td>\n",
       "            </tr>\n",
       "            <tr>\n",
       "                        <th id=\"T_7d302db2_adfa_11eb_9a3c_8c859005b233level0_row5\" class=\"row_heading level0 row5\" >freeSulfurDioxide</th>\n",
       "                        <td id=\"T_7d302db2_adfa_11eb_9a3c_8c859005b233row5_col0\" class=\"data row5 col0\" >-0.147458</td>\n",
       "                        <td id=\"T_7d302db2_adfa_11eb_9a3c_8c859005b233row5_col1\" class=\"data row5 col1\" >0.009691</td>\n",
       "                        <td id=\"T_7d302db2_adfa_11eb_9a3c_8c859005b233row5_col2\" class=\"data row5 col2\" >-0.077671</td>\n",
       "                        <td id=\"T_7d302db2_adfa_11eb_9a3c_8c859005b233row5_col3\" class=\"data row5 col3\" >0.005004</td>\n",
       "                        <td id=\"T_7d302db2_adfa_11eb_9a3c_8c859005b233row5_col4\" class=\"data row5 col4\" >-0.054352</td>\n",
       "                        <td id=\"T_7d302db2_adfa_11eb_9a3c_8c859005b233row5_col5\" class=\"data row5 col5\" >1.000000</td>\n",
       "                        <td id=\"T_7d302db2_adfa_11eb_9a3c_8c859005b233row5_col6\" class=\"data row5 col6\" >0.654102</td>\n",
       "                        <td id=\"T_7d302db2_adfa_11eb_9a3c_8c859005b233row5_col7\" class=\"data row5 col7\" >-0.038066</td>\n",
       "                        <td id=\"T_7d302db2_adfa_11eb_9a3c_8c859005b233row5_col8\" class=\"data row5 col8\" >0.118089</td>\n",
       "                        <td id=\"T_7d302db2_adfa_11eb_9a3c_8c859005b233row5_col9\" class=\"data row5 col9\" >0.060060</td>\n",
       "                        <td id=\"T_7d302db2_adfa_11eb_9a3c_8c859005b233row5_col10\" class=\"data row5 col10\" >-0.065172</td>\n",
       "                        <td id=\"T_7d302db2_adfa_11eb_9a3c_8c859005b233row5_col11\" class=\"data row5 col11\" >-0.045363</td>\n",
       "                        <td id=\"T_7d302db2_adfa_11eb_9a3c_8c859005b233row5_col12\" class=\"data row5 col12\" >-0.076751</td>\n",
       "            </tr>\n",
       "            <tr>\n",
       "                        <th id=\"T_7d302db2_adfa_11eb_9a3c_8c859005b233level0_row6\" class=\"row_heading level0 row6\" >totalSulfurDioxide</th>\n",
       "                        <td id=\"T_7d302db2_adfa_11eb_9a3c_8c859005b233row6_col0\" class=\"data row6 col0\" >-0.102858</td>\n",
       "                        <td id=\"T_7d302db2_adfa_11eb_9a3c_8c859005b233row6_col1\" class=\"data row6 col1\" >0.105180</td>\n",
       "                        <td id=\"T_7d302db2_adfa_11eb_9a3c_8c859005b233row6_col2\" class=\"data row6 col2\" >0.000973</td>\n",
       "                        <td id=\"T_7d302db2_adfa_11eb_9a3c_8c859005b233row6_col3\" class=\"data row6 col3\" >0.110947</td>\n",
       "                        <td id=\"T_7d302db2_adfa_11eb_9a3c_8c859005b233row6_col4\" class=\"data row6 col4\" >0.053213</td>\n",
       "                        <td id=\"T_7d302db2_adfa_11eb_9a3c_8c859005b233row6_col5\" class=\"data row6 col5\" >0.654102</td>\n",
       "                        <td id=\"T_7d302db2_adfa_11eb_9a3c_8c859005b233row6_col6\" class=\"data row6 col6\" >1.000000</td>\n",
       "                        <td id=\"T_7d302db2_adfa_11eb_9a3c_8c859005b233row6_col7\" class=\"data row6 col7\" >0.129233</td>\n",
       "                        <td id=\"T_7d302db2_adfa_11eb_9a3c_8c859005b233row6_col8\" class=\"data row6 col8\" >0.007723</td>\n",
       "                        <td id=\"T_7d302db2_adfa_11eb_9a3c_8c859005b233row6_col9\" class=\"data row6 col9\" >-0.042090</td>\n",
       "                        <td id=\"T_7d302db2_adfa_11eb_9a3c_8c859005b233row6_col10\" class=\"data row6 col10\" >-0.257147</td>\n",
       "                        <td id=\"T_7d302db2_adfa_11eb_9a3c_8c859005b233row6_col11\" class=\"data row6 col11\" >-0.210413</td>\n",
       "                        <td id=\"T_7d302db2_adfa_11eb_9a3c_8c859005b233row6_col12\" class=\"data row6 col12\" >-0.176584</td>\n",
       "            </tr>\n",
       "            <tr>\n",
       "                        <th id=\"T_7d302db2_adfa_11eb_9a3c_8c859005b233level0_row7\" class=\"row_heading level0 row7\" >density</th>\n",
       "                        <td id=\"T_7d302db2_adfa_11eb_9a3c_8c859005b233row7_col0\" class=\"data row7 col0\" >0.654050</td>\n",
       "                        <td id=\"T_7d302db2_adfa_11eb_9a3c_8c859005b233row7_col1\" class=\"data row7 col1\" >-0.010116</td>\n",
       "                        <td id=\"T_7d302db2_adfa_11eb_9a3c_8c859005b233row7_col2\" class=\"data row7 col2\" >0.367649</td>\n",
       "                        <td id=\"T_7d302db2_adfa_11eb_9a3c_8c859005b233row7_col3\" class=\"data row7 col3\" >0.333367</td>\n",
       "                        <td id=\"T_7d302db2_adfa_11eb_9a3c_8c859005b233row7_col4\" class=\"data row7 col4\" >0.323629</td>\n",
       "                        <td id=\"T_7d302db2_adfa_11eb_9a3c_8c859005b233row7_col5\" class=\"data row7 col5\" >-0.038066</td>\n",
       "                        <td id=\"T_7d302db2_adfa_11eb_9a3c_8c859005b233row7_col6\" class=\"data row7 col6\" >0.129233</td>\n",
       "                        <td id=\"T_7d302db2_adfa_11eb_9a3c_8c859005b233row7_col7\" class=\"data row7 col7\" >1.000000</td>\n",
       "                        <td id=\"T_7d302db2_adfa_11eb_9a3c_8c859005b233row7_col8\" class=\"data row7 col8\" >-0.298971</td>\n",
       "                        <td id=\"T_7d302db2_adfa_11eb_9a3c_8c859005b233row7_col9\" class=\"data row7 col9\" >0.144962</td>\n",
       "                        <td id=\"T_7d302db2_adfa_11eb_9a3c_8c859005b233row7_col10\" class=\"data row7 col10\" >-0.457625</td>\n",
       "                        <td id=\"T_7d302db2_adfa_11eb_9a3c_8c859005b233row7_col11\" class=\"data row7 col11\" >-0.176150</td>\n",
       "                        <td id=\"T_7d302db2_adfa_11eb_9a3c_8c859005b233row7_col12\" class=\"data row7 col12\" >-0.149850</td>\n",
       "            </tr>\n",
       "            <tr>\n",
       "                        <th id=\"T_7d302db2_adfa_11eb_9a3c_8c859005b233level0_row8\" class=\"row_heading level0 row8\" >pH</th>\n",
       "                        <td id=\"T_7d302db2_adfa_11eb_9a3c_8c859005b233row8_col0\" class=\"data row8 col0\" >-0.702895</td>\n",
       "                        <td id=\"T_7d302db2_adfa_11eb_9a3c_8c859005b233row8_col1\" class=\"data row8 col1\" >0.260406</td>\n",
       "                        <td id=\"T_7d302db2_adfa_11eb_9a3c_8c859005b233row8_col2\" class=\"data row8 col2\" >-0.518027</td>\n",
       "                        <td id=\"T_7d302db2_adfa_11eb_9a3c_8c859005b233row8_col3\" class=\"data row8 col3\" >-0.065859</td>\n",
       "                        <td id=\"T_7d302db2_adfa_11eb_9a3c_8c859005b233row8_col4\" class=\"data row8 col4\" >-0.183580</td>\n",
       "                        <td id=\"T_7d302db2_adfa_11eb_9a3c_8c859005b233row8_col5\" class=\"data row8 col5\" >0.118089</td>\n",
       "                        <td id=\"T_7d302db2_adfa_11eb_9a3c_8c859005b233row8_col6\" class=\"data row8 col6\" >0.007723</td>\n",
       "                        <td id=\"T_7d302db2_adfa_11eb_9a3c_8c859005b233row8_col7\" class=\"data row8 col7\" >-0.298971</td>\n",
       "                        <td id=\"T_7d302db2_adfa_11eb_9a3c_8c859005b233row8_col8\" class=\"data row8 col8\" >1.000000</td>\n",
       "                        <td id=\"T_7d302db2_adfa_11eb_9a3c_8c859005b233row8_col9\" class=\"data row8 col9\" >-0.040382</td>\n",
       "                        <td id=\"T_7d302db2_adfa_11eb_9a3c_8c859005b233row8_col10\" class=\"data row8 col10\" >0.121295</td>\n",
       "                        <td id=\"T_7d302db2_adfa_11eb_9a3c_8c859005b233row8_col11\" class=\"data row8 col11\" >-0.095001</td>\n",
       "                        <td id=\"T_7d302db2_adfa_11eb_9a3c_8c859005b233row8_col12\" class=\"data row8 col12\" >-0.086264</td>\n",
       "            </tr>\n",
       "            <tr>\n",
       "                        <th id=\"T_7d302db2_adfa_11eb_9a3c_8c859005b233level0_row9\" class=\"row_heading level0 row9\" >sulphates</th>\n",
       "                        <td id=\"T_7d302db2_adfa_11eb_9a3c_8c859005b233row9_col0\" class=\"data row9 col0\" >0.213094</td>\n",
       "                        <td id=\"T_7d302db2_adfa_11eb_9a3c_8c859005b233row9_col1\" class=\"data row9 col1\" >-0.348036</td>\n",
       "                        <td id=\"T_7d302db2_adfa_11eb_9a3c_8c859005b233row9_col2\" class=\"data row9 col2\" >0.303163</td>\n",
       "                        <td id=\"T_7d302db2_adfa_11eb_9a3c_8c859005b233row9_col3\" class=\"data row9 col3\" >0.073164</td>\n",
       "                        <td id=\"T_7d302db2_adfa_11eb_9a3c_8c859005b233row9_col4\" class=\"data row9 col4\" >0.035601</td>\n",
       "                        <td id=\"T_7d302db2_adfa_11eb_9a3c_8c859005b233row9_col5\" class=\"data row9 col5\" >0.060060</td>\n",
       "                        <td id=\"T_7d302db2_adfa_11eb_9a3c_8c859005b233row9_col6\" class=\"data row9 col6\" >-0.042090</td>\n",
       "                        <td id=\"T_7d302db2_adfa_11eb_9a3c_8c859005b233row9_col7\" class=\"data row9 col7\" >0.144962</td>\n",
       "                        <td id=\"T_7d302db2_adfa_11eb_9a3c_8c859005b233row9_col8\" class=\"data row9 col8\" >-0.040382</td>\n",
       "                        <td id=\"T_7d302db2_adfa_11eb_9a3c_8c859005b233row9_col9\" class=\"data row9 col9\" >1.000000</td>\n",
       "                        <td id=\"T_7d302db2_adfa_11eb_9a3c_8c859005b233row9_col10\" class=\"data row9 col10\" >0.232635</td>\n",
       "                        <td id=\"T_7d302db2_adfa_11eb_9a3c_8c859005b233row9_col11\" class=\"data row9 col11\" >0.381907</td>\n",
       "                        <td id=\"T_7d302db2_adfa_11eb_9a3c_8c859005b233row9_col12\" class=\"data row9 col12\" >0.300392</td>\n",
       "            </tr>\n",
       "            <tr>\n",
       "                        <th id=\"T_7d302db2_adfa_11eb_9a3c_8c859005b233level0_row10\" class=\"row_heading level0 row10\" >alcohol</th>\n",
       "                        <td id=\"T_7d302db2_adfa_11eb_9a3c_8c859005b233row10_col0\" class=\"data row10 col0\" >-0.003372</td>\n",
       "                        <td id=\"T_7d302db2_adfa_11eb_9a3c_8c859005b233row10_col1\" class=\"data row10 col1\" >-0.206550</td>\n",
       "                        <td id=\"T_7d302db2_adfa_11eb_9a3c_8c859005b233row10_col2\" class=\"data row10 col2\" >0.175982</td>\n",
       "                        <td id=\"T_7d302db2_adfa_11eb_9a3c_8c859005b233row10_col3\" class=\"data row10 col3\" >0.171213</td>\n",
       "                        <td id=\"T_7d302db2_adfa_11eb_9a3c_8c859005b233row10_col4\" class=\"data row10 col4\" >-0.194123</td>\n",
       "                        <td id=\"T_7d302db2_adfa_11eb_9a3c_8c859005b233row10_col5\" class=\"data row10 col5\" >-0.065172</td>\n",
       "                        <td id=\"T_7d302db2_adfa_11eb_9a3c_8c859005b233row10_col6\" class=\"data row10 col6\" >-0.257147</td>\n",
       "                        <td id=\"T_7d302db2_adfa_11eb_9a3c_8c859005b233row10_col7\" class=\"data row10 col7\" >-0.457625</td>\n",
       "                        <td id=\"T_7d302db2_adfa_11eb_9a3c_8c859005b233row10_col8\" class=\"data row10 col8\" >0.121295</td>\n",
       "                        <td id=\"T_7d302db2_adfa_11eb_9a3c_8c859005b233row10_col9\" class=\"data row10 col9\" >0.232635</td>\n",
       "                        <td id=\"T_7d302db2_adfa_11eb_9a3c_8c859005b233row10_col10\" class=\"data row10 col10\" >1.000000</td>\n",
       "                        <td id=\"T_7d302db2_adfa_11eb_9a3c_8c859005b233row10_col11\" class=\"data row10 col11\" >0.488774</td>\n",
       "                        <td id=\"T_7d302db2_adfa_11eb_9a3c_8c859005b233row10_col12\" class=\"data row10 col12\" >0.417470</td>\n",
       "            </tr>\n",
       "            <tr>\n",
       "                        <th id=\"T_7d302db2_adfa_11eb_9a3c_8c859005b233level0_row11\" class=\"row_heading level0 row11\" >quality</th>\n",
       "                        <td id=\"T_7d302db2_adfa_11eb_9a3c_8c859005b233row11_col0\" class=\"data row11 col0\" >0.139373</td>\n",
       "                        <td id=\"T_7d302db2_adfa_11eb_9a3c_8c859005b233row11_col1\" class=\"data row11 col1\" >-0.363495</td>\n",
       "                        <td id=\"T_7d302db2_adfa_11eb_9a3c_8c859005b233row11_col2\" class=\"data row11 col2\" >0.240377</td>\n",
       "                        <td id=\"T_7d302db2_adfa_11eb_9a3c_8c859005b233row11_col3\" class=\"data row11 col3\" >0.044278</td>\n",
       "                        <td id=\"T_7d302db2_adfa_11eb_9a3c_8c859005b233row11_col4\" class=\"data row11 col4\" >-0.122765</td>\n",
       "                        <td id=\"T_7d302db2_adfa_11eb_9a3c_8c859005b233row11_col5\" class=\"data row11 col5\" >-0.045363</td>\n",
       "                        <td id=\"T_7d302db2_adfa_11eb_9a3c_8c859005b233row11_col6\" class=\"data row11 col6\" >-0.210413</td>\n",
       "                        <td id=\"T_7d302db2_adfa_11eb_9a3c_8c859005b233row11_col7\" class=\"data row11 col7\" >-0.176150</td>\n",
       "                        <td id=\"T_7d302db2_adfa_11eb_9a3c_8c859005b233row11_col8\" class=\"data row11 col8\" >-0.095001</td>\n",
       "                        <td id=\"T_7d302db2_adfa_11eb_9a3c_8c859005b233row11_col9\" class=\"data row11 col9\" >0.381907</td>\n",
       "                        <td id=\"T_7d302db2_adfa_11eb_9a3c_8c859005b233row11_col10\" class=\"data row11 col10\" >0.488774</td>\n",
       "                        <td id=\"T_7d302db2_adfa_11eb_9a3c_8c859005b233row11_col11\" class=\"data row11 col11\" >1.000000</td>\n",
       "                        <td id=\"T_7d302db2_adfa_11eb_9a3c_8c859005b233row11_col12\" class=\"data row11 col12\" >0.710830</td>\n",
       "            </tr>\n",
       "            <tr>\n",
       "                        <th id=\"T_7d302db2_adfa_11eb_9a3c_8c859005b233level0_row12\" class=\"row_heading level0 row12\" >goodqual</th>\n",
       "                        <td id=\"T_7d302db2_adfa_11eb_9a3c_8c859005b233row12_col0\" class=\"data row12 col0\" >0.127630</td>\n",
       "                        <td id=\"T_7d302db2_adfa_11eb_9a3c_8c859005b233row12_col1\" class=\"data row12 col1\" >-0.266701</td>\n",
       "                        <td id=\"T_7d302db2_adfa_11eb_9a3c_8c859005b233row12_col2\" class=\"data row12 col2\" >0.226815</td>\n",
       "                        <td id=\"T_7d302db2_adfa_11eb_9a3c_8c859005b233row12_col3\" class=\"data row12 col3\" >0.107269</td>\n",
       "                        <td id=\"T_7d302db2_adfa_11eb_9a3c_8c859005b233row12_col4\" class=\"data row12 col4\" >-0.103790</td>\n",
       "                        <td id=\"T_7d302db2_adfa_11eb_9a3c_8c859005b233row12_col5\" class=\"data row12 col5\" >-0.076751</td>\n",
       "                        <td id=\"T_7d302db2_adfa_11eb_9a3c_8c859005b233row12_col6\" class=\"data row12 col6\" >-0.176584</td>\n",
       "                        <td id=\"T_7d302db2_adfa_11eb_9a3c_8c859005b233row12_col7\" class=\"data row12 col7\" >-0.149850</td>\n",
       "                        <td id=\"T_7d302db2_adfa_11eb_9a3c_8c859005b233row12_col8\" class=\"data row12 col8\" >-0.086264</td>\n",
       "                        <td id=\"T_7d302db2_adfa_11eb_9a3c_8c859005b233row12_col9\" class=\"data row12 col9\" >0.300392</td>\n",
       "                        <td id=\"T_7d302db2_adfa_11eb_9a3c_8c859005b233row12_col10\" class=\"data row12 col10\" >0.417470</td>\n",
       "                        <td id=\"T_7d302db2_adfa_11eb_9a3c_8c859005b233row12_col11\" class=\"data row12 col11\" >0.710830</td>\n",
       "                        <td id=\"T_7d302db2_adfa_11eb_9a3c_8c859005b233row12_col12\" class=\"data row12 col12\" >1.000000</td>\n",
       "            </tr>\n",
       "    </tbody></table>"
      ],
      "text/plain": [
       "<pandas.io.formats.style.Styler at 0x7f87f54d33d0>"
      ]
     },
     "execution_count": 48,
     "metadata": {},
     "output_type": "execute_result"
    }
   ],
   "source": [
    "wineall.corr().style.background_gradient()"
   ]
  },
  {
   "cell_type": "code",
   "execution_count": 44,
   "metadata": {},
   "outputs": [
    {
     "data": {
      "text/plain": [
       "<matplotlib.axes._subplots.AxesSubplot at 0x7f88073c19d0>"
      ]
     },
     "execution_count": 44,
     "metadata": {},
     "output_type": "execute_result"
    },
    {
     "data": {
      "image/png": "[encoded data removed]",
      "text/plain": [
       "<Figure size 432x288 with 2 Axes>"
      ]
     },
     "metadata": {
      "needs_background": "light"
     },
     "output_type": "display_data"
    }
   ],
   "source": [
    "sns.heatmap(wineall.corr(), cmap=\"Oranges\")"
   ]
  },
  {
   "cell_type": "markdown",
   "metadata": {
    "_cell_guid": "9838ca3d-4b89-4503-9d7e-247cc3a9730b",
    "_uuid": "974be3136a2f13bf26a88b26cbddbf73f5cafda9"
   },
   "source": [
    "# III. Data Preprocessing"
   ]
  },
  {
   "cell_type": "markdown",
   "metadata": {},
   "source": [
    "### Feature Selection:"
   ]
  },
  {
   "cell_type": "code",
   "execution_count": 197,
   "metadata": {},
   "outputs": [],
   "source": [
    "# Drop the 'goodqual' and 'quality' from wineall and define it as X\n",
    "# Define 'goodqual' as y\n",
    "X_all = wineall.drop(['quality','goodqual','fixedAcidity','residualSugar','density','pH'], axis = 1)\n",
    "y_all = wineall['goodqual']"
   ]
  },
  {
   "cell_type": "code",
   "execution_count": 198,
   "metadata": {},
   "outputs": [
    {
     "data": {
      "text/plain": [
       "(1431, 7)"
      ]
     },
     "execution_count": 198,
     "metadata": {},
     "output_type": "execute_result"
    }
   ],
   "source": [
    "X_all.shape"
   ]
  },
  {
   "cell_type": "code",
   "execution_count": 199,
   "metadata": {},
   "outputs": [
    {
     "data": {
      "text/plain": [
       "(1431,)"
      ]
     },
     "execution_count": 199,
     "metadata": {},
     "output_type": "execute_result"
    }
   ],
   "source": [
    "# Plot some information about the y\n",
    "y_all.shape"
   ]
  },
  {
   "cell_type": "markdown",
   "metadata": {},
   "source": [
    "###  Create Unseen Data:"
   ]
  },
  {
   "cell_type": "code",
   "execution_count": 200,
   "metadata": {},
   "outputs": [
    {
     "data": {
      "text/plain": [
       "1073.25"
      ]
     },
     "execution_count": 200,
     "metadata": {},
     "output_type": "execute_result"
    }
   ],
   "source": [
    "X_all.shape[0] * 0.75"
   ]
  },
  {
   "cell_type": "code",
   "execution_count": 201,
   "metadata": {},
   "outputs": [],
   "source": [
    "# load default data set\n",
    "X = X_all[:1073]\n",
    "y = y_all[:1073]\n",
    "\n",
    "# Unseen data\n",
    "X_unseen = X_all[1073:]\n",
    "y_unseen = y_all[1073:]"
   ]
  },
  {
   "cell_type": "code",
   "execution_count": 202,
   "metadata": {},
   "outputs": [],
   "source": [
    "X_column = X.columns"
   ]
  },
  {
   "cell_type": "markdown",
   "metadata": {},
   "source": [
    "### Standardization:"
   ]
  },
  {
   "cell_type": "code",
   "execution_count": 203,
   "metadata": {},
   "outputs": [],
   "source": [
    "# preprocessing\n",
    "from sklearn.preprocessing import StandardScaler\n",
    "\n",
    "# transform the entire X\n",
    "scaler = StandardScaler()\n",
    "X = scaler.fit_transform(X)"
   ]
  },
  {
   "cell_type": "code",
   "execution_count": 204,
   "metadata": {},
   "outputs": [],
   "source": [
    "# change X back to dataframe with columns names\n",
    "X = pd.DataFrame(X)\n",
    "X.columns = X_column"
   ]
  },
  {
   "cell_type": "code",
   "execution_count": 205,
   "metadata": {},
   "outputs": [
    {
     "data": {
      "text/html": [
       "<div>\n",
       "<style scoped>\n",
       "    .dataframe tbody tr th:only-of-type {\n",
       "        vertical-align: middle;\n",
       "    }\n",
       "\n",
       "    .dataframe tbody tr th {\n",
       "        vertical-align: top;\n",
       "    }\n",
       "\n",
       "    .dataframe thead th {\n",
       "        text-align: right;\n",
       "    }\n",
       "</style>\n",
       "<table border=\"1\" class=\"dataframe\">\n",
       "  <thead>\n",
       "    <tr style=\"text-align: right;\">\n",
       "      <th></th>\n",
       "      <th>volatileAcidity</th>\n",
       "      <th>citricAcid</th>\n",
       "      <th>chlorides</th>\n",
       "      <th>freeSulfurDioxide</th>\n",
       "      <th>totalSulfurDioxide</th>\n",
       "      <th>sulphates</th>\n",
       "      <th>alcohol</th>\n",
       "    </tr>\n",
       "  </thead>\n",
       "  <tbody>\n",
       "    <tr>\n",
       "      <th>0</th>\n",
       "      <td>1.082845</td>\n",
       "      <td>-1.474345</td>\n",
       "      <td>-0.335145</td>\n",
       "      <td>-0.370570</td>\n",
       "      <td>-0.316199</td>\n",
       "      <td>-0.676994</td>\n",
       "      <td>-0.938414</td>\n",
       "    </tr>\n",
       "    <tr>\n",
       "      <th>1</th>\n",
       "      <td>2.143181</td>\n",
       "      <td>-1.474345</td>\n",
       "      <td>0.702011</td>\n",
       "      <td>1.179180</td>\n",
       "      <td>0.841161</td>\n",
       "      <td>0.270606</td>\n",
       "      <td>-0.555628</td>\n",
       "    </tr>\n",
       "    <tr>\n",
       "      <th>2</th>\n",
       "      <td>1.436291</td>\n",
       "      <td>-1.268298</td>\n",
       "      <td>0.419151</td>\n",
       "      <td>0.072216</td>\n",
       "      <td>0.385231</td>\n",
       "      <td>0.033706</td>\n",
       "      <td>-0.555628</td>\n",
       "    </tr>\n",
       "    <tr>\n",
       "      <th>3</th>\n",
       "      <td>-1.391273</td>\n",
       "      <td>1.410303</td>\n",
       "      <td>-0.382288</td>\n",
       "      <td>0.293609</td>\n",
       "      <td>0.595660</td>\n",
       "      <td>-0.519061</td>\n",
       "      <td>-0.555628</td>\n",
       "    </tr>\n",
       "    <tr>\n",
       "      <th>4</th>\n",
       "      <td>1.082845</td>\n",
       "      <td>-1.474345</td>\n",
       "      <td>-0.335145</td>\n",
       "      <td>-0.370570</td>\n",
       "      <td>-0.316199</td>\n",
       "      <td>-0.676994</td>\n",
       "      <td>-0.938414</td>\n",
       "    </tr>\n",
       "  </tbody>\n",
       "</table>\n",
       "</div>"
      ],
      "text/plain": [
       "   volatileAcidity  citricAcid  chlorides  freeSulfurDioxide  \\\n",
       "0         1.082845   -1.474345  -0.335145          -0.370570   \n",
       "1         2.143181   -1.474345   0.702011           1.179180   \n",
       "2         1.436291   -1.268298   0.419151           0.072216   \n",
       "3        -1.391273    1.410303  -0.382288           0.293609   \n",
       "4         1.082845   -1.474345  -0.335145          -0.370570   \n",
       "\n",
       "   totalSulfurDioxide  sulphates   alcohol  \n",
       "0           -0.316199  -0.676994 -0.938414  \n",
       "1            0.841161   0.270606 -0.555628  \n",
       "2            0.385231   0.033706 -0.555628  \n",
       "3            0.595660  -0.519061 -0.555628  \n",
       "4           -0.316199  -0.676994 -0.938414  "
      ]
     },
     "execution_count": 205,
     "metadata": {},
     "output_type": "execute_result"
    }
   ],
   "source": [
    "X.head()"
   ]
  },
  {
   "cell_type": "markdown",
   "metadata": {},
   "source": [
    "# IV. Classification Models"
   ]
  },
  {
   "cell_type": "code",
   "execution_count": 224,
   "metadata": {},
   "outputs": [],
   "source": [
    "# keep the output identical at every run\n",
    "np.random.seed(42)"
   ]
  },
  {
   "cell_type": "markdown",
   "metadata": {},
   "source": [
    "### Naive Benchmark"
   ]
  },
  {
   "cell_type": "code",
   "execution_count": 225,
   "metadata": {},
   "outputs": [
    {
     "data": {
      "text/plain": [
       "0.13487071977638015"
      ]
     },
     "execution_count": 225,
     "metadata": {},
     "output_type": "execute_result"
    }
   ],
   "source": [
    "np.mean(ybin)"
   ]
  },
  {
   "cell_type": "code",
   "execution_count": 226,
   "metadata": {},
   "outputs": [
    {
     "data": {
      "text/plain": [
       "0.8651292802236199"
      ]
     },
     "execution_count": 226,
     "metadata": {},
     "output_type": "execute_result"
    }
   ],
   "source": [
    "1-np.mean(ybin)"
   ]
  },
  {
   "cell_type": "markdown",
   "metadata": {},
   "source": [
    "### Train test split"
   ]
  },
  {
   "cell_type": "code",
   "execution_count": 227,
   "metadata": {
    "_cell_guid": "d7703d9a-3397-4c42-9b38-6f341cac1cde",
    "_uuid": "bdfc0f6ba146f947f265fd493e8327366fdb5c9a"
   },
   "outputs": [],
   "source": [
    "# Train test split\n",
    "X_train, X_test, y_train, y_test = train_test_split(X, y, test_size = 0.2, random_state = 42)"
   ]
  },
  {
   "cell_type": "markdown",
   "metadata": {},
   "source": [
    "Create a list to store result:"
   ]
  },
  {
   "cell_type": "code",
   "execution_count": 489,
   "metadata": {},
   "outputs": [],
   "source": [
    "result = []"
   ]
  },
  {
   "cell_type": "markdown",
   "metadata": {},
   "source": [
    "## 1. Naive Bayes"
   ]
  },
  {
   "cell_type": "code",
   "execution_count": 490,
   "metadata": {},
   "outputs": [
    {
     "name": "stdout",
     "output_type": "stream",
     "text": [
      "Training set accuracy:  0.84965\n",
      "Testing  set accuracy:  0.85116\n"
     ]
    }
   ],
   "source": [
    "# Try a naive Bayes classifier\n",
    "from sklearn.naive_bayes import GaussianNB\n",
    "\n",
    "model =  GaussianNB()\n",
    "model.fit(X_train,y_train)\n",
    "trainScore = model.score(X_train,y_train)\n",
    "testScore = model.score(X_test,y_test)\n",
    "print(\"Training set accuracy: \", trainScore.round(5))\n",
    "print(\"Testing  set accuracy: \", testScore.round(5))"
   ]
  },
  {
   "cell_type": "code",
   "execution_count": 491,
   "metadata": {},
   "outputs": [],
   "source": [
    "from sklearn.metrics import plot_roc_curve\n",
    "from sklearn.metrics import accuracy_score\n",
    "from sklearn.metrics import confusion_matrix"
   ]
  },
  {
   "cell_type": "code",
   "execution_count": 492,
   "metadata": {},
   "outputs": [
    {
     "data": {
      "text/plain": [
       "array([[165,  17],\n",
       "       [ 15,  18]])"
      ]
     },
     "execution_count": 492,
     "metadata": {},
     "output_type": "execute_result"
    }
   ],
   "source": [
    "y_pred = model.predict(X_test)\n",
    "                     \n",
    "cmat = confusion_matrix(y_test, y_pred)\n",
    "tn, fp, fn, tp = cmat.ravel()\n",
    "cmat"
   ]
  },
  {
   "cell_type": "code",
   "execution_count": 493,
   "metadata": {},
   "outputs": [
    {
     "data": {
      "text/plain": [
       "0.5142857142857142"
      ]
     },
     "execution_count": 493,
     "metadata": {},
     "output_type": "execute_result"
    }
   ],
   "source": [
    "# precision\n",
    "precision = tp / (tp + fp) # or use precision_score(y_test, y_test_pred)\n",
    "precision"
   ]
  },
  {
   "cell_type": "code",
   "execution_count": 494,
   "metadata": {},
   "outputs": [
    {
     "data": {
      "text/plain": [
       "0.5454545454545454"
      ]
     },
     "execution_count": 494,
     "metadata": {},
     "output_type": "execute_result"
    }
   ],
   "source": [
    "# recall\n",
    "recall = tp / (tp + fn) # or use recall_score(y_test, y_test_pred)\n",
    "recall"
   ]
  },
  {
   "cell_type": "code",
   "execution_count": 495,
   "metadata": {},
   "outputs": [
    {
     "data": {
      "image/png": "[encoded data removed]",
      "text/plain": [
       "<Figure size 432x288 with 1 Axes>"
      ]
     },
     "metadata": {
      "needs_background": "light"
     },
     "output_type": "display_data"
    }
   ],
   "source": [
    "plot_roc_curve(model, X_test, y_test)  \n",
    "plt.show() "
   ]
  },
  {
   "cell_type": "markdown",
   "metadata": {},
   "source": [
    "#### Cross Validation Machinery:"
   ]
  },
  {
   "cell_type": "code",
   "execution_count": 496,
   "metadata": {},
   "outputs": [],
   "source": [
    "from sklearn.model_selection import cross_val_score\n",
    "from sklearn.model_selection import ShuffleSplit"
   ]
  },
  {
   "cell_type": "code",
   "execution_count": 497,
   "metadata": {},
   "outputs": [
    {
     "name": "stdout",
     "output_type": "stream",
     "text": [
      "Mean Test Score: 0.84353\n",
      "Std: 0.02008\n"
     ]
    }
   ],
   "source": [
    "# cross validation machinery\n",
    "# These are some new scikit learn toys that will make your life easier (see below)\n",
    "\n",
    "naive_bayes =  GaussianNB()\n",
    "# Set up train/test simulation and store in cvf\n",
    "cvf = ShuffleSplit(n_splits=25, test_size=0.2)\n",
    "# Simuate scores:  returns vector, note cv argument\n",
    "scores = cross_val_score(model, X, y, cv=cvf)\n",
    "print(\"Mean Test Score:\", np.mean(scores).round(5))\n",
    "print(\"Std:\", np.std(scores).round(5))"
   ]
  },
  {
   "cell_type": "code",
   "execution_count": 498,
   "metadata": {},
   "outputs": [],
   "source": [
    "result.append({\"Model\": \"Naive Bayes\", \"Test_Score\": np.mean(scores).round(5)})"
   ]
  },
  {
   "cell_type": "markdown",
   "metadata": {},
   "source": [
    "## 2. Linear Discriminant"
   ]
  },
  {
   "cell_type": "code",
   "execution_count": 499,
   "metadata": {},
   "outputs": [
    {
     "name": "stdout",
     "output_type": "stream",
     "text": [
      "Mean Test Score: 0.86605\n",
      "Std: 0.02025\n"
     ]
    }
   ],
   "source": [
    "# Let's try a linear separation\n",
    "from sklearn.discriminant_analysis import LinearDiscriminantAnalysis\n",
    "\n",
    "ld = LinearDiscriminantAnalysis()\n",
    "\n",
    "# Simuate scores:  returns vector, note cv argument\n",
    "scores = cross_val_score(ld, X, y, cv=cvf)\n",
    "print(\"Mean Test Score:\", np.mean(scores).round(5))\n",
    "print(\"Std:\", np.std(scores).round(5))"
   ]
  },
  {
   "cell_type": "code",
   "execution_count": 500,
   "metadata": {},
   "outputs": [],
   "source": [
    "result.append({\"Model\": \"Linear Discriminant\", \"Test_Score\": np.mean(scores).round(5)})"
   ]
  },
  {
   "cell_type": "markdown",
   "metadata": {},
   "source": [
    "## 3. Logistic"
   ]
  },
  {
   "cell_type": "code",
   "execution_count": 501,
   "metadata": {},
   "outputs": [],
   "source": [
    "from sklearn.linear_model import LogisticRegression"
   ]
  },
  {
   "cell_type": "markdown",
   "metadata": {},
   "source": [
    "#### Without Penalty:"
   ]
  },
  {
   "cell_type": "code",
   "execution_count": 502,
   "metadata": {},
   "outputs": [
    {
     "name": "stdout",
     "output_type": "stream",
     "text": [
      "Mean training accuracy:  0.88046\n",
      "Mean testing accuracy:  0.87581\n"
     ]
    }
   ],
   "source": [
    "lr = LogisticRegression(penalty=\"none\",solver=\"lbfgs\",max_iter=1000)\n",
    "\n",
    "trainS, testS = MCtraintest(500,X,y,lr,0.20)\n",
    "print(\"Mean training accuracy: \", np.mean(trainS).round(5))\n",
    "print(\"Mean testing accuracy: \", np.mean(testS).round(5))"
   ]
  },
  {
   "cell_type": "markdown",
   "metadata": {},
   "source": [
    "#### With Penalty:"
   ]
  },
  {
   "cell_type": "code",
   "execution_count": 503,
   "metadata": {},
   "outputs": [],
   "source": [
    "accuracy_results = []\n",
    "for Cparam in [15, 10, 7.5, 6, 5, 3, 1, 0.9, 0.8, 0.1, 0.01, 0.001]:\n",
    "    lr = LogisticRegression(penalty = \"l2\", solver = \"lbfgs\", C=Cparam, max_iter = 1000)\n",
    "    \n",
    "    #mctraintest on only training data\n",
    "    trainS, testS = MCtraintest(20, X_train, y_train, lr, 0.5)\n",
    "    accuracy_results.append({\n",
    "        \"C\": Cparam,\n",
    "        \"train_score\": np.mean(trainS).round(5),\n",
    "        \"validation_score\": np.mean(testS).round(5)\n",
    "    })"
   ]
  },
  {
   "cell_type": "code",
   "execution_count": 504,
   "metadata": {},
   "outputs": [
    {
     "name": "stdout",
     "output_type": "stream",
     "text": [
      "         C  train_score  validation_score\n",
      "0   15.000      0.88217           0.87657\n",
      "1   10.000      0.88566           0.87401\n",
      "2    7.500      0.88263           0.87809\n",
      "3    6.000      0.88765           0.87016\n",
      "4    5.000      0.88485           0.87448\n",
      "5    3.000      0.88228           0.88054\n",
      "6    1.000      0.88986           0.86876\n",
      "7    0.900      0.88846           0.87168\n",
      "8    0.800      0.88578           0.87529\n",
      "9    0.100      0.88473           0.87331\n",
      "10   0.010      0.85198           0.83928\n",
      "11   0.001      0.84592           0.84406\n"
     ]
    }
   ],
   "source": [
    "# find the best C value using validation data\n",
    "accuracy_df = pd.DataFrame(accuracy_results)\n",
    "print(accuracy_df)"
   ]
  },
  {
   "cell_type": "code",
   "execution_count": 505,
   "metadata": {},
   "outputs": [
    {
     "name": "stdout",
     "output_type": "stream",
     "text": [
      "The best model is(are) the one(s) below: \n"
     ]
    },
    {
     "data": {
      "text/html": [
       "<div>\n",
       "<style scoped>\n",
       "    .dataframe tbody tr th:only-of-type {\n",
       "        vertical-align: middle;\n",
       "    }\n",
       "\n",
       "    .dataframe tbody tr th {\n",
       "        vertical-align: top;\n",
       "    }\n",
       "\n",
       "    .dataframe thead th {\n",
       "        text-align: right;\n",
       "    }\n",
       "</style>\n",
       "<table border=\"1\" class=\"dataframe\">\n",
       "  <thead>\n",
       "    <tr style=\"text-align: right;\">\n",
       "      <th></th>\n",
       "      <th>C</th>\n",
       "      <th>train_score</th>\n",
       "      <th>validation_score</th>\n",
       "    </tr>\n",
       "  </thead>\n",
       "  <tbody>\n",
       "    <tr>\n",
       "      <th>5</th>\n",
       "      <td>3.0</td>\n",
       "      <td>0.88228</td>\n",
       "      <td>0.88054</td>\n",
       "    </tr>\n",
       "  </tbody>\n",
       "</table>\n",
       "</div>"
      ],
      "text/plain": [
       "     C  train_score  validation_score\n",
       "5  3.0      0.88228           0.88054"
      ]
     },
     "execution_count": 505,
     "metadata": {},
     "output_type": "execute_result"
    }
   ],
   "source": [
    "print(\"The best model is(are) the one(s) below: \")\n",
    "accuracy_df[accuracy_df.validation_score == accuracy_df.validation_score.max()]"
   ]
  },
  {
   "cell_type": "code",
   "execution_count": 506,
   "metadata": {},
   "outputs": [
    {
     "data": {
      "text/plain": [
       "3.0"
      ]
     },
     "execution_count": 506,
     "metadata": {},
     "output_type": "execute_result"
    }
   ],
   "source": [
    "best_C = accuracy_df[accuracy_df.validation_score == accuracy_df.validation_score.max()].values[0, 0]\n",
    "best_C"
   ]
  },
  {
   "cell_type": "code",
   "execution_count": 507,
   "metadata": {},
   "outputs": [],
   "source": [
    "# finally we use our best model, and evaluate on testing set\n",
    "lr = LogisticRegression(penalty = \"l2\", solver = \"lbfgs\", C=best_C, max_iter = 1000)\n",
    "lr.fit(X_train, y_train)\n",
    "y_pred = lr.predict(X_test)"
   ]
  },
  {
   "cell_type": "code",
   "execution_count": 508,
   "metadata": {},
   "outputs": [
    {
     "name": "stdout",
     "output_type": "stream",
     "text": [
      "Mean testing accuracy:  0.86977\n"
     ]
    }
   ],
   "source": [
    "lr_test = accuracy_score(y_test, y_pred).round(5)\n",
    "print(\"Mean testing accuracy: \", lr_test)"
   ]
  },
  {
   "cell_type": "code",
   "execution_count": 509,
   "metadata": {},
   "outputs": [
    {
     "data": {
      "text/plain": [
       "array([[175,   7],\n",
       "       [ 21,  12]])"
      ]
     },
     "execution_count": 509,
     "metadata": {},
     "output_type": "execute_result"
    }
   ],
   "source": [
    "cmat = confusion_matrix(y_test, y_pred)\n",
    "tn, fp, fn, tp = cmat.ravel()\n",
    "cmat"
   ]
  },
  {
   "cell_type": "code",
   "execution_count": 510,
   "metadata": {},
   "outputs": [
    {
     "data": {
      "text/plain": [
       "0.631578947368421"
      ]
     },
     "execution_count": 510,
     "metadata": {},
     "output_type": "execute_result"
    }
   ],
   "source": [
    "# precision\n",
    "precision = tp / (tp + fp) # or use precision_score(y_test, y_test_pred)\n",
    "precision"
   ]
  },
  {
   "cell_type": "code",
   "execution_count": 511,
   "metadata": {},
   "outputs": [
    {
     "data": {
      "text/plain": [
       "0.36363636363636365"
      ]
     },
     "execution_count": 511,
     "metadata": {},
     "output_type": "execute_result"
    }
   ],
   "source": [
    "# recall\n",
    "recall = tp / (tp + fn) # or use recall_score(y_test, y_test_pred)\n",
    "recall"
   ]
  },
  {
   "cell_type": "code",
   "execution_count": 512,
   "metadata": {},
   "outputs": [
    {
     "data": {
      "image/png": "[encoded data removed]",
      "text/plain": [
       "<Figure size 432x288 with 1 Axes>"
      ]
     },
     "metadata": {
      "needs_background": "light"
     },
     "output_type": "display_data"
    }
   ],
   "source": [
    "plot_roc_curve(lr, X_test, y_test)  \n",
    "plt.show() "
   ]
  },
  {
   "cell_type": "markdown",
   "metadata": {},
   "source": [
    "#### Comparison:"
   ]
  },
  {
   "cell_type": "code",
   "execution_count": 513,
   "metadata": {},
   "outputs": [
    {
     "data": {
      "text/plain": [
       "True"
      ]
     },
     "execution_count": 513,
     "metadata": {},
     "output_type": "execute_result"
    }
   ],
   "source": [
    "0.87581 > 0.86977"
   ]
  },
  {
   "cell_type": "markdown",
   "metadata": {},
   "source": [
    "From the above, we could see that Logistic model without penalty actually performs better than the one with penalty. So, we will store the first testing score."
   ]
  },
  {
   "cell_type": "code",
   "execution_count": 514,
   "metadata": {},
   "outputs": [],
   "source": [
    "result.append({\"Model\": \"Logistic\", \"Test_Score\": 0.87581})"
   ]
  },
  {
   "cell_type": "markdown",
   "metadata": {},
   "source": [
    "## 4. SDG Classifier"
   ]
  },
  {
   "cell_type": "code",
   "execution_count": 515,
   "metadata": {},
   "outputs": [],
   "source": [
    "from sklearn.linear_model import SGDClassifier"
   ]
  },
  {
   "cell_type": "code",
   "execution_count": 516,
   "metadata": {},
   "outputs": [
    {
     "name": "stdout",
     "output_type": "stream",
     "text": [
      "Mean training score: 0.84759\n",
      "Mean testing score: 0.84341\n"
     ]
    }
   ],
   "source": [
    "sgd = SGDClassifier(penalty=None)\n",
    "trainS, testS = MCtraintest(500,X,y,sgd,0.20)\n",
    "print(\"Mean training score:\",np.mean(trainS).round(5))\n",
    "print(\"Mean testing score:\",np.mean(testS).round(5))"
   ]
  },
  {
   "cell_type": "code",
   "execution_count": 517,
   "metadata": {},
   "outputs": [],
   "source": [
    "result.append({\"Model\": \"SDG\", \"Test_Score\": np.mean(testS).round(5)})"
   ]
  },
  {
   "cell_type": "markdown",
   "metadata": {},
   "source": [
    "## 5. SVM"
   ]
  },
  {
   "cell_type": "code",
   "execution_count": 518,
   "metadata": {},
   "outputs": [],
   "source": [
    "from sklearn.svm import SVC\n",
    "from sklearn.model_selection import GridSearchCV"
   ]
  },
  {
   "cell_type": "code",
   "execution_count": 519,
   "metadata": {},
   "outputs": [],
   "source": [
    "cRange = [0.1,0.25, 0.5, 0.75, 0.8,0.9,1.0,1.1,1.2,1.3,1.3,1.5,2.0]\n",
    "gRange = [0.0001,0.001, 0.005,0.1,0.2,0.5,1.0,1.5,2.0]"
   ]
  },
  {
   "cell_type": "code",
   "execution_count": 520,
   "metadata": {},
   "outputs": [],
   "source": [
    "param_grid = {\"kernel\":[\"linear\",\"rbf\"],\"C\":cRange,\"gamma\": gRange}\n",
    "shuffle_split = ShuffleSplit(test_size=0.2, n_splits=25)"
   ]
  },
  {
   "cell_type": "code",
   "execution_count": 526,
   "metadata": {},
   "outputs": [
    {
     "data": {
      "text/plain": [
       "GridSearchCV(cv=ShuffleSplit(n_splits=25, random_state=None, test_size=0.2, train_size=None),\n",
       "             estimator=SVC(),\n",
       "             param_grid={'C': [0.1, 0.25, 0.5, 0.75, 0.8, 0.9, 1.0, 1.1, 1.2,\n",
       "                               1.3, 1.3, 1.5, 2.0],\n",
       "                         'gamma': [0.0001, 0.001, 0.005, 0.1, 0.2, 0.5, 1.0,\n",
       "                                   1.5, 2.0],\n",
       "                         'kernel': ['linear', 'rbf']},\n",
       "             return_train_score=True)"
      ]
     },
     "execution_count": 526,
     "metadata": {},
     "output_type": "execute_result"
    }
   ],
   "source": [
    "svc_rbf = SVC()\n",
    "grid_search = GridSearchCV(svc_rbf,param_grid,cv=shuffle_split,return_train_score = True)\n",
    "grid_search.fit(X_train, y_train)"
   ]
  },
  {
   "cell_type": "code",
   "execution_count": 527,
   "metadata": {},
   "outputs": [
    {
     "data": {
      "text/plain": [
       "SVC(C=1.2, gamma=1.5)"
      ]
     },
     "execution_count": 527,
     "metadata": {},
     "output_type": "execute_result"
    }
   ],
   "source": [
    "grid_search.best_estimator_"
   ]
  },
  {
   "cell_type": "code",
   "execution_count": 528,
   "metadata": {},
   "outputs": [
    {
     "data": {
      "text/html": [
       "<div>\n",
       "<style scoped>\n",
       "    .dataframe tbody tr th:only-of-type {\n",
       "        vertical-align: middle;\n",
       "    }\n",
       "\n",
       "    .dataframe tbody tr th {\n",
       "        vertical-align: top;\n",
       "    }\n",
       "\n",
       "    .dataframe thead th {\n",
       "        text-align: right;\n",
       "    }\n",
       "</style>\n",
       "<table border=\"1\" class=\"dataframe\">\n",
       "  <thead>\n",
       "    <tr style=\"text-align: right;\">\n",
       "      <th></th>\n",
       "      <th>rank_test_score</th>\n",
       "      <th>mean_test_score</th>\n",
       "      <th>param_C</th>\n",
       "      <th>param_gamma</th>\n",
       "      <th>param_kernel</th>\n",
       "    </tr>\n",
       "  </thead>\n",
       "  <tbody>\n",
       "    <tr>\n",
       "      <th>159</th>\n",
       "      <td>1</td>\n",
       "      <td>0.880233</td>\n",
       "      <td>1.2</td>\n",
       "      <td>1.5</td>\n",
       "      <td>rbf</td>\n",
       "    </tr>\n",
       "    <tr>\n",
       "      <th>215</th>\n",
       "      <td>2</td>\n",
       "      <td>0.880000</td>\n",
       "      <td>1.5</td>\n",
       "      <td>2</td>\n",
       "      <td>rbf</td>\n",
       "    </tr>\n",
       "    <tr>\n",
       "      <th>141</th>\n",
       "      <td>3</td>\n",
       "      <td>0.879767</td>\n",
       "      <td>1.1</td>\n",
       "      <td>1.5</td>\n",
       "      <td>rbf</td>\n",
       "    </tr>\n",
       "    <tr>\n",
       "      <th>177</th>\n",
       "      <td>4</td>\n",
       "      <td>0.879535</td>\n",
       "      <td>1.3</td>\n",
       "      <td>1.5</td>\n",
       "      <td>rbf</td>\n",
       "    </tr>\n",
       "    <tr>\n",
       "      <th>195</th>\n",
       "      <td>4</td>\n",
       "      <td>0.879535</td>\n",
       "      <td>1.3</td>\n",
       "      <td>1.5</td>\n",
       "      <td>rbf</td>\n",
       "    </tr>\n",
       "    <tr>\n",
       "      <th>...</th>\n",
       "      <td>...</td>\n",
       "      <td>...</td>\n",
       "      <td>...</td>\n",
       "      <td>...</td>\n",
       "      <td>...</td>\n",
       "    </tr>\n",
       "    <tr>\n",
       "      <th>15</th>\n",
       "      <td>192</td>\n",
       "      <td>0.848837</td>\n",
       "      <td>0.1</td>\n",
       "      <td>1.5</td>\n",
       "      <td>rbf</td>\n",
       "    </tr>\n",
       "    <tr>\n",
       "      <th>149</th>\n",
       "      <td>231</td>\n",
       "      <td>0.848605</td>\n",
       "      <td>1.2</td>\n",
       "      <td>0.005</td>\n",
       "      <td>rbf</td>\n",
       "    </tr>\n",
       "    <tr>\n",
       "      <th>203</th>\n",
       "      <td>232</td>\n",
       "      <td>0.848372</td>\n",
       "      <td>1.5</td>\n",
       "      <td>0.005</td>\n",
       "      <td>rbf</td>\n",
       "    </tr>\n",
       "    <tr>\n",
       "      <th>185</th>\n",
       "      <td>232</td>\n",
       "      <td>0.848372</td>\n",
       "      <td>1.3</td>\n",
       "      <td>0.005</td>\n",
       "      <td>rbf</td>\n",
       "    </tr>\n",
       "    <tr>\n",
       "      <th>167</th>\n",
       "      <td>232</td>\n",
       "      <td>0.848372</td>\n",
       "      <td>1.3</td>\n",
       "      <td>0.005</td>\n",
       "      <td>rbf</td>\n",
       "    </tr>\n",
       "  </tbody>\n",
       "</table>\n",
       "<p>234 rows × 5 columns</p>\n",
       "</div>"
      ],
      "text/plain": [
       "     rank_test_score  mean_test_score param_C param_gamma param_kernel\n",
       "159                1         0.880233     1.2         1.5          rbf\n",
       "215                2         0.880000     1.5           2          rbf\n",
       "141                3         0.879767     1.1         1.5          rbf\n",
       "177                4         0.879535     1.3         1.5          rbf\n",
       "195                4         0.879535     1.3         1.5          rbf\n",
       "..               ...              ...     ...         ...          ...\n",
       "15               192         0.848837     0.1         1.5          rbf\n",
       "149              231         0.848605     1.2       0.005          rbf\n",
       "203              232         0.848372     1.5       0.005          rbf\n",
       "185              232         0.848372     1.3       0.005          rbf\n",
       "167              232         0.848372     1.3       0.005          rbf\n",
       "\n",
       "[234 rows x 5 columns]"
      ]
     },
     "execution_count": 528,
     "metadata": {},
     "output_type": "execute_result"
    }
   ],
   "source": [
    "result_df = pd.DataFrame(grid_search.cv_results_)\n",
    "result_df = result_df[[\"rank_test_score\",\"mean_test_score\",\"param_C\",\"param_gamma\",\"param_kernel\"]]\n",
    "result_df.sort_values(\"rank_test_score\")"
   ]
  },
  {
   "cell_type": "code",
   "execution_count": 529,
   "metadata": {},
   "outputs": [],
   "source": [
    "best_svc = SVC(kernel=\"rbf\",C=1.2, gamma=1.5)\n",
    "best_svc.fit(X_train, y_train)\n",
    "y_pred = best_svc.predict(X_test)"
   ]
  },
  {
   "cell_type": "code",
   "execution_count": 530,
   "metadata": {},
   "outputs": [
    {
     "name": "stdout",
     "output_type": "stream",
     "text": [
      "Mean training accuracy:  0.98252\n",
      "Mean testing accuracy:  0.88372\n"
     ]
    }
   ],
   "source": [
    "svc_test = accuracy_score(y_test, y_pred).round(5)\n",
    "print(\"Mean training accuracy: \", best_svc.score(X_train,y_train).round(5))\n",
    "print(\"Mean testing accuracy: \", svc_test)"
   ]
  },
  {
   "cell_type": "code",
   "execution_count": 531,
   "metadata": {},
   "outputs": [
    {
     "data": {
      "text/plain": [
       "array([[179,   3],\n",
       "       [ 22,  11]])"
      ]
     },
     "execution_count": 531,
     "metadata": {},
     "output_type": "execute_result"
    }
   ],
   "source": [
    "cmat = confusion_matrix(y_test, y_pred)\n",
    "tn, fp, fn, tp = cmat.ravel()\n",
    "cmat"
   ]
  },
  {
   "cell_type": "code",
   "execution_count": 532,
   "metadata": {},
   "outputs": [
    {
     "data": {
      "image/png": "[encoded data removed]",
      "text/plain": [
       "<Figure size 432x288 with 1 Axes>"
      ]
     },
     "metadata": {
      "needs_background": "light"
     },
     "output_type": "display_data"
    }
   ],
   "source": [
    "plot_roc_curve(best_svc, X_test, y_test)  \n",
    "plt.show() "
   ]
  },
  {
   "cell_type": "code",
   "execution_count": 533,
   "metadata": {},
   "outputs": [],
   "source": [
    "result.append({\"Model\": \"SVC_rbf\", \"Test_Score\": svc_test})"
   ]
  },
  {
   "cell_type": "markdown",
   "metadata": {},
   "source": [
    "## 6. Decision Tree"
   ]
  },
  {
   "cell_type": "code",
   "execution_count": 365,
   "metadata": {},
   "outputs": [],
   "source": [
    "from sklearn.tree import DecisionTreeClassifier"
   ]
  },
  {
   "cell_type": "code",
   "execution_count": 366,
   "metadata": {},
   "outputs": [],
   "source": [
    "param_grid = {\"max_depth\": [1,2,3,4,5,10,15,20,25,50]}"
   ]
  },
  {
   "cell_type": "code",
   "execution_count": 367,
   "metadata": {},
   "outputs": [
    {
     "data": {
      "text/plain": [
       "GridSearchCV(cv=ShuffleSplit(n_splits=25, random_state=None, test_size=0.2, train_size=None),\n",
       "             estimator=DecisionTreeClassifier(),\n",
       "             param_grid={'max_depth': [1, 2, 3, 4, 5, 10, 15, 20, 25, 50]},\n",
       "             return_train_score=True)"
      ]
     },
     "execution_count": 367,
     "metadata": {},
     "output_type": "execute_result"
    }
   ],
   "source": [
    "tree = DecisionTreeClassifier()\n",
    "grid_search = GridSearchCV(tree,param_grid,cv=shuffle_split,return_train_score=True)\n",
    "grid_search.fit(X_train, y_train)"
   ]
  },
  {
   "cell_type": "code",
   "execution_count": 368,
   "metadata": {},
   "outputs": [
    {
     "data": {
      "text/plain": [
       "DecisionTreeClassifier(max_depth=2)"
      ]
     },
     "execution_count": 368,
     "metadata": {},
     "output_type": "execute_result"
    }
   ],
   "source": [
    "grid_search.best_estimator_"
   ]
  },
  {
   "cell_type": "code",
   "execution_count": 369,
   "metadata": {},
   "outputs": [
    {
     "data": {
      "text/html": [
       "<div>\n",
       "<style scoped>\n",
       "    .dataframe tbody tr th:only-of-type {\n",
       "        vertical-align: middle;\n",
       "    }\n",
       "\n",
       "    .dataframe tbody tr th {\n",
       "        vertical-align: top;\n",
       "    }\n",
       "\n",
       "    .dataframe thead th {\n",
       "        text-align: right;\n",
       "    }\n",
       "</style>\n",
       "<table border=\"1\" class=\"dataframe\">\n",
       "  <thead>\n",
       "    <tr style=\"text-align: right;\">\n",
       "      <th></th>\n",
       "      <th>rank_test_score</th>\n",
       "      <th>mean_test_score</th>\n",
       "      <th>param_max_depth</th>\n",
       "    </tr>\n",
       "  </thead>\n",
       "  <tbody>\n",
       "    <tr>\n",
       "      <th>0</th>\n",
       "      <td>10</td>\n",
       "      <td>0.853023</td>\n",
       "      <td>1</td>\n",
       "    </tr>\n",
       "    <tr>\n",
       "      <th>1</th>\n",
       "      <td>1</td>\n",
       "      <td>0.878605</td>\n",
       "      <td>2</td>\n",
       "    </tr>\n",
       "    <tr>\n",
       "      <th>2</th>\n",
       "      <td>2</td>\n",
       "      <td>0.874651</td>\n",
       "      <td>3</td>\n",
       "    </tr>\n",
       "    <tr>\n",
       "      <th>3</th>\n",
       "      <td>3</td>\n",
       "      <td>0.873023</td>\n",
       "      <td>4</td>\n",
       "    </tr>\n",
       "    <tr>\n",
       "      <th>4</th>\n",
       "      <td>4</td>\n",
       "      <td>0.870930</td>\n",
       "      <td>5</td>\n",
       "    </tr>\n",
       "    <tr>\n",
       "      <th>5</th>\n",
       "      <td>5</td>\n",
       "      <td>0.864651</td>\n",
       "      <td>10</td>\n",
       "    </tr>\n",
       "    <tr>\n",
       "      <th>6</th>\n",
       "      <td>6</td>\n",
       "      <td>0.861395</td>\n",
       "      <td>15</td>\n",
       "    </tr>\n",
       "    <tr>\n",
       "      <th>7</th>\n",
       "      <td>7</td>\n",
       "      <td>0.860698</td>\n",
       "      <td>20</td>\n",
       "    </tr>\n",
       "    <tr>\n",
       "      <th>8</th>\n",
       "      <td>9</td>\n",
       "      <td>0.855814</td>\n",
       "      <td>25</td>\n",
       "    </tr>\n",
       "    <tr>\n",
       "      <th>9</th>\n",
       "      <td>8</td>\n",
       "      <td>0.856047</td>\n",
       "      <td>50</td>\n",
       "    </tr>\n",
       "  </tbody>\n",
       "</table>\n",
       "</div>"
      ],
      "text/plain": [
       "   rank_test_score  mean_test_score param_max_depth\n",
       "0               10         0.853023               1\n",
       "1                1         0.878605               2\n",
       "2                2         0.874651               3\n",
       "3                3         0.873023               4\n",
       "4                4         0.870930               5\n",
       "5                5         0.864651              10\n",
       "6                6         0.861395              15\n",
       "7                7         0.860698              20\n",
       "8                9         0.855814              25\n",
       "9                8         0.856047              50"
      ]
     },
     "execution_count": 369,
     "metadata": {},
     "output_type": "execute_result"
    }
   ],
   "source": [
    "result_df = pd.DataFrame(grid_search.cv_results_)\n",
    "result_df = result_df[[\"rank_test_score\",\"mean_test_score\",\"param_max_depth\"]]\n",
    "result_df"
   ]
  },
  {
   "cell_type": "code",
   "execution_count": 370,
   "metadata": {},
   "outputs": [],
   "source": [
    "best_tree = DecisionTreeClassifier(max_depth=2)\n",
    "best_tree.fit(X_train, y_train)\n",
    "y_pred = best_tree.predict(X_test)"
   ]
  },
  {
   "cell_type": "code",
   "execution_count": 371,
   "metadata": {},
   "outputs": [
    {
     "name": "stdout",
     "output_type": "stream",
     "text": [
      "Mean training accuracy:  0.88811\n",
      "Mean testing accuracy:  0.86977\n"
     ]
    }
   ],
   "source": [
    "tree_test = accuracy_score(y_test, y_pred).round(5)\n",
    "print(\"Mean training accuracy: \", best_tree.score(X_train,y_train).round(5))\n",
    "print(\"Mean testing accuracy: \", tree_test)"
   ]
  },
  {
   "cell_type": "code",
   "execution_count": 372,
   "metadata": {},
   "outputs": [
    {
     "data": {
      "image/png": "[encoded data removed]",
      "text/plain": [
       "<Figure size 432x288 with 1 Axes>"
      ]
     },
     "metadata": {
      "needs_background": "light"
     },
     "output_type": "display_data"
    }
   ],
   "source": [
    "plot_roc_curve(best_tree, X_test, y_test)  \n",
    "plt.show()"
   ]
  },
  {
   "cell_type": "code",
   "execution_count": 373,
   "metadata": {},
   "outputs": [
    {
     "name": "stdout",
     "output_type": "stream",
     "text": [
      "              feature  importance\n",
      "0     volatileAcidity    0.000000\n",
      "1          citricAcid    0.000000\n",
      "2           chlorides    0.000000\n",
      "3   freeSulfurDioxide    0.000000\n",
      "4  totalSulfurDioxide    0.000000\n",
      "5           sulphates    0.188772\n",
      "6             alcohol    0.811228\n"
     ]
    },
    {
     "data": {
      "image/png": "[encoded data removed]",
      "text/plain": [
       "<Figure size 432x288 with 1 Axes>"
      ]
     },
     "metadata": {
      "needs_background": "light"
     },
     "output_type": "display_data"
    }
   ],
   "source": [
    "importances = best_tree.feature_importances_\n",
    "\n",
    "df = pd.DataFrame({'feature': X_train.columns, 'importance': importances})\n",
    "df = df.sort_values('importance')\n",
    "print(df)\n",
    "\n",
    "ax = df.plot(kind='barh', x='feature', legend=False)\n",
    "ax.set_ylabel('')\n",
    "\n",
    "plt.tight_layout()\n",
    "plt.show()"
   ]
  },
  {
   "cell_type": "code",
   "execution_count": 534,
   "metadata": {},
   "outputs": [],
   "source": [
    "result.append({\"Model\": \"DecisionTree\", \"Test_Score\": tree_test})"
   ]
  },
  {
   "cell_type": "markdown",
   "metadata": {},
   "source": [
    "# Ensemble Learning Algorithms"
   ]
  },
  {
   "cell_type": "markdown",
   "metadata": {},
   "source": [
    "Now, we could use several ensemble learning algorithms to improve our model performances:"
   ]
  },
  {
   "cell_type": "markdown",
   "metadata": {},
   "source": [
    "## 7. Bagging (Bootstrap Sampling)"
   ]
  },
  {
   "cell_type": "markdown",
   "metadata": {},
   "source": [
    "We will train an ensemble of 1000 Decision Tree Classifiers, and each is trained on 429 (half training) instances randomly sampled with replacement in the training set. This could create a relatively larger bias, but lower variance, and thereby improve the performance."
   ]
  },
  {
   "cell_type": "code",
   "execution_count": 377,
   "metadata": {},
   "outputs": [],
   "source": [
    "from sklearn.ensemble import BaggingClassifier"
   ]
  },
  {
   "cell_type": "code",
   "execution_count": 380,
   "metadata": {},
   "outputs": [
    {
     "data": {
      "text/plain": [
       "429.0"
      ]
     },
     "execution_count": 380,
     "metadata": {},
     "output_type": "execute_result"
    }
   ],
   "source": [
    "X_train.shape[0]/2"
   ]
  },
  {
   "cell_type": "code",
   "execution_count": 379,
   "metadata": {},
   "outputs": [],
   "source": [
    "bag_clf = BaggingClassifier(\n",
    "    DecisionTreeClassifier(),n_estimators=1000,\n",
    "    max_samples=429,bootstrap=True,n_jobs=-1)\n",
    "bag_clf.fit(X_train,y_train)\n",
    "y_pred = bag_clf.predict(X_test)"
   ]
  },
  {
   "cell_type": "code",
   "execution_count": 381,
   "metadata": {},
   "outputs": [
    {
     "name": "stdout",
     "output_type": "stream",
     "text": [
      "Mean training accuracy:  0.9697\n",
      "Mean testing accuracy:  0.90233\n"
     ]
    }
   ],
   "source": [
    "bagging_test = accuracy_score(y_test, y_pred).round(5)\n",
    "print(\"Mean training accuracy: \", bag_clf.score(X_train,y_train).round(5))\n",
    "print(\"Mean testing accuracy: \", bagging_test)"
   ]
  },
  {
   "cell_type": "code",
   "execution_count": 535,
   "metadata": {},
   "outputs": [],
   "source": [
    "result.append({\"Model\": \"BaggingClf\", \"Test_Score\": bagging_test})"
   ]
  },
  {
   "cell_type": "markdown",
   "metadata": {},
   "source": [
    "## 8. Random Forest (Bagging)"
   ]
  },
  {
   "cell_type": "code",
   "execution_count": 383,
   "metadata": {},
   "outputs": [],
   "source": [
    "from sklearn.ensemble import RandomForestClassifier"
   ]
  },
  {
   "cell_type": "code",
   "execution_count": 423,
   "metadata": {},
   "outputs": [],
   "source": [
    "param_grid = {\"max_depth\": [10,15,20,25],\"max_features\":[1,2,3,4,5],\"n_estimators\":[100]}"
   ]
  },
  {
   "cell_type": "code",
   "execution_count": 438,
   "metadata": {},
   "outputs": [
    {
     "data": {
      "text/plain": [
       "GridSearchCV(cv=10, estimator=RandomForestClassifier(), n_jobs=-1,\n",
       "             param_grid={'max_depth': [10, 15, 20, 25],\n",
       "                         'max_features': [1, 2, 3, 4, 5],\n",
       "                         'n_estimators': [100]},\n",
       "             return_train_score=True)"
      ]
     },
     "execution_count": 438,
     "metadata": {},
     "output_type": "execute_result"
    }
   ],
   "source": [
    "forest = RandomForestClassifier()\n",
    "grid_search = GridSearchCV(forest,param_grid,cv=10,return_train_score=True,n_jobs=-1)\n",
    "grid_search.fit(X_train, y_train)"
   ]
  },
  {
   "cell_type": "code",
   "execution_count": 439,
   "metadata": {},
   "outputs": [
    {
     "data": {
      "text/plain": [
       "RandomForestClassifier(max_depth=15, max_features=2)"
      ]
     },
     "execution_count": 439,
     "metadata": {},
     "output_type": "execute_result"
    }
   ],
   "source": [
    "grid_search.best_estimator_"
   ]
  },
  {
   "cell_type": "code",
   "execution_count": 440,
   "metadata": {},
   "outputs": [
    {
     "data": {
      "text/html": [
       "<div>\n",
       "<style scoped>\n",
       "    .dataframe tbody tr th:only-of-type {\n",
       "        vertical-align: middle;\n",
       "    }\n",
       "\n",
       "    .dataframe tbody tr th {\n",
       "        vertical-align: top;\n",
       "    }\n",
       "\n",
       "    .dataframe thead th {\n",
       "        text-align: right;\n",
       "    }\n",
       "</style>\n",
       "<table border=\"1\" class=\"dataframe\">\n",
       "  <thead>\n",
       "    <tr style=\"text-align: right;\">\n",
       "      <th></th>\n",
       "      <th>rank_test_score</th>\n",
       "      <th>mean_test_score</th>\n",
       "      <th>param_max_depth</th>\n",
       "      <th>param_max_features</th>\n",
       "    </tr>\n",
       "  </thead>\n",
       "  <tbody>\n",
       "    <tr>\n",
       "      <th>0</th>\n",
       "      <td>20</td>\n",
       "      <td>0.888140</td>\n",
       "      <td>10</td>\n",
       "      <td>1</td>\n",
       "    </tr>\n",
       "    <tr>\n",
       "      <th>1</th>\n",
       "      <td>5</td>\n",
       "      <td>0.900944</td>\n",
       "      <td>10</td>\n",
       "      <td>2</td>\n",
       "    </tr>\n",
       "    <tr>\n",
       "      <th>2</th>\n",
       "      <td>17</td>\n",
       "      <td>0.896306</td>\n",
       "      <td>10</td>\n",
       "      <td>3</td>\n",
       "    </tr>\n",
       "    <tr>\n",
       "      <th>3</th>\n",
       "      <td>4</td>\n",
       "      <td>0.900999</td>\n",
       "      <td>10</td>\n",
       "      <td>4</td>\n",
       "    </tr>\n",
       "    <tr>\n",
       "      <th>4</th>\n",
       "      <td>11</td>\n",
       "      <td>0.897510</td>\n",
       "      <td>10</td>\n",
       "      <td>5</td>\n",
       "    </tr>\n",
       "  </tbody>\n",
       "</table>\n",
       "</div>"
      ],
      "text/plain": [
       "   rank_test_score  mean_test_score param_max_depth param_max_features\n",
       "0               20         0.888140              10                  1\n",
       "1                5         0.900944              10                  2\n",
       "2               17         0.896306              10                  3\n",
       "3                4         0.900999              10                  4\n",
       "4               11         0.897510              10                  5"
      ]
     },
     "execution_count": 440,
     "metadata": {},
     "output_type": "execute_result"
    }
   ],
   "source": [
    "result_df = pd.DataFrame(grid_search.cv_results_)\n",
    "result_df = result_df[[\"rank_test_score\",\"mean_test_score\",\"param_max_depth\",\"param_max_features\"]]\n",
    "result_df.head()"
   ]
  },
  {
   "cell_type": "code",
   "execution_count": 441,
   "metadata": {},
   "outputs": [],
   "source": [
    "best_forest = RandomForestClassifier(max_depth=15,max_features=2,n_estimators=100)\n",
    "best_forest.fit(X_train, y_train)\n",
    "y_pred = best_forest.predict(X_test)"
   ]
  },
  {
   "cell_type": "code",
   "execution_count": 442,
   "metadata": {},
   "outputs": [
    {
     "name": "stdout",
     "output_type": "stream",
     "text": [
      "Mean training accuracy:  1.0\n",
      "Mean testing accuracy:  0.92093\n"
     ]
    }
   ],
   "source": [
    "forest_test = accuracy_score(y_test, y_pred).round(5)\n",
    "print(\"Mean training accuracy: \", best_forest.score(X_train,y_train).round(5))\n",
    "print(\"Mean testing accuracy: \", forest_test)"
   ]
  },
  {
   "cell_type": "code",
   "execution_count": 443,
   "metadata": {},
   "outputs": [
    {
     "data": {
      "text/plain": [
       "array([[179,   3],\n",
       "       [ 14,  19]])"
      ]
     },
     "execution_count": 443,
     "metadata": {},
     "output_type": "execute_result"
    }
   ],
   "source": [
    "cmat = confusion_matrix(y_test, y_pred)\n",
    "tn, fp, fn, tp = cmat.ravel()\n",
    "cmat"
   ]
  },
  {
   "cell_type": "code",
   "execution_count": 444,
   "metadata": {},
   "outputs": [
    {
     "data": {
      "image/png": "[encoded data removed]",
      "text/plain": [
       "<Figure size 432x288 with 1 Axes>"
      ]
     },
     "metadata": {
      "needs_background": "light"
     },
     "output_type": "display_data"
    }
   ],
   "source": [
    "plot_roc_curve(best_forest, X_test, y_test)  \n",
    "plt.show()"
   ]
  },
  {
   "cell_type": "code",
   "execution_count": 445,
   "metadata": {},
   "outputs": [
    {
     "data": {
      "image/png": "[encoded data removed]",
      "text/plain": [
       "<Figure size 432x288 with 1 Axes>"
      ]
     },
     "metadata": {
      "needs_background": "light"
     },
     "output_type": "display_data"
    }
   ],
   "source": [
    "def plot_feature_importances(model):\n",
    "    n_features = X_train.shape[1]\n",
    "    plt.barh(range(n_features), model.feature_importances_, align='center')\n",
    "    plt.yticks(np.arange(n_features), X.columns)\n",
    "    plt.xlabel(\"Feature importance\")\n",
    "    plt.ylabel(\"Feature\")\n",
    "    plt.ylim(-1, n_features)\n",
    "    \n",
    "plot_feature_importances(best_forest)"
   ]
  },
  {
   "cell_type": "code",
   "execution_count": 536,
   "metadata": {},
   "outputs": [],
   "source": [
    "result.append({\"Model\": \"RandomForest\", \"Test_Score\": forest_test})"
   ]
  },
  {
   "cell_type": "markdown",
   "metadata": {},
   "source": [
    "## 9. Voting Classifier"
   ]
  },
  {
   "cell_type": "markdown",
   "metadata": {},
   "source": [
    "We will combine best Random Forest Classifier, the best SVC, and Linear Discrimant model."
   ]
  },
  {
   "cell_type": "code",
   "execution_count": 538,
   "metadata": {},
   "outputs": [
    {
     "data": {
      "text/plain": [
       "VotingClassifier(estimators=[('rf',\n",
       "                              RandomForestClassifier(max_depth=15,\n",
       "                                                     max_features=2)),\n",
       "                             ('svc', SVC(C=1.2, gamma=1.5)),\n",
       "                             ('lda', LinearDiscriminantAnalysis())])"
      ]
     },
     "execution_count": 538,
     "metadata": {},
     "output_type": "execute_result"
    }
   ],
   "source": [
    "from sklearn.ensemble import VotingClassifier\n",
    "\n",
    "rf = RandomForestClassifier(max_depth=15, n_estimators=100, max_features=2)\n",
    "svc = SVC(kernel=\"rbf\",C=1.2, gamma=1.5)\n",
    "lda = LinearDiscriminantAnalysis()\n",
    "\n",
    "voting_clf = VotingClassifier(\n",
    "    estimators=[('rf', rf), ('svc', svc), ('lda', lda)],\n",
    "    voting='hard')\n",
    "\n",
    "voting_clf.fit(X_train, y_train)"
   ]
  },
  {
   "cell_type": "code",
   "execution_count": 541,
   "metadata": {},
   "outputs": [
    {
     "name": "stdout",
     "output_type": "stream",
     "text": [
      "RandomForestClassifier 0.92558\n",
      "SVC 0.88372\n",
      "LinearDiscriminantAnalysis 0.86047\n",
      "VotingClassifier 0.90233\n"
     ]
    }
   ],
   "source": [
    "for clf in (rf,svc,lda,voting_clf):\n",
    "    clf.fit(X_train, y_train)\n",
    "    y_pred = clf.predict(X_test)\n",
    "    print(clf.__class__.__name__, accuracy_score(y_test, y_pred).round(5))"
   ]
  },
  {
   "cell_type": "code",
   "execution_count": 542,
   "metadata": {},
   "outputs": [],
   "source": [
    "result.append({\"Model\": \"Voting Classifier\", \"Test_Score\": 0.9007})"
   ]
  },
  {
   "cell_type": "markdown",
   "metadata": {},
   "source": [
    "## 10. Gradient Boost"
   ]
  },
  {
   "cell_type": "code",
   "execution_count": 543,
   "metadata": {},
   "outputs": [],
   "source": [
    "from sklearn.ensemble import GradientBoostingClassifier"
   ]
  },
  {
   "cell_type": "code",
   "execution_count": 606,
   "metadata": {},
   "outputs": [
    {
     "data": {
      "text/plain": [
       "GradientBoostingClassifier(n_estimators=500)"
      ]
     },
     "execution_count": 606,
     "metadata": {},
     "output_type": "execute_result"
    }
   ],
   "source": [
    "gb_clf = GradientBoostingClassifier(max_depth=3,n_estimators=500)\n",
    "gb_clf.fit(X_train, y_train)"
   ]
  },
  {
   "cell_type": "code",
   "execution_count": 607,
   "metadata": {},
   "outputs": [
    {
     "name": "stdout",
     "output_type": "stream",
     "text": [
      "Mean training accuracy:  1.0\n",
      "Mean testing accuracy:  0.93488\n"
     ]
    }
   ],
   "source": [
    "y_pred = gb_clf.predict(X_test)\n",
    "gb_test = accuracy_score(y_test, y_pred).round(5)\n",
    "print(\"Mean training accuracy: \", gb_clf.score(X_train,y_train).round(5))\n",
    "print(\"Mean testing accuracy: \", gb_test)"
   ]
  },
  {
   "cell_type": "code",
   "execution_count": 608,
   "metadata": {},
   "outputs": [
    {
     "data": {
      "text/plain": [
       "array([[176,   6],\n",
       "       [  8,  25]])"
      ]
     },
     "execution_count": 608,
     "metadata": {},
     "output_type": "execute_result"
    }
   ],
   "source": [
    "cmat = confusion_matrix(y_test, y_pred)\n",
    "tn, fp, fn, tp = cmat.ravel()\n",
    "cmat"
   ]
  },
  {
   "cell_type": "code",
   "execution_count": 581,
   "metadata": {},
   "outputs": [],
   "source": [
    "result.append({\"Model\": \"GradientBoost\", \"Test_Score\": gb_test})"
   ]
  },
  {
   "cell_type": "markdown",
   "metadata": {},
   "source": [
    "# V. Performance Evaluation"
   ]
  },
  {
   "cell_type": "code",
   "execution_count": 582,
   "metadata": {},
   "outputs": [],
   "source": [
    "result_df = pd.DataFrame(result)"
   ]
  },
  {
   "cell_type": "code",
   "execution_count": 583,
   "metadata": {},
   "outputs": [
    {
     "data": {
      "text/html": [
       "<div>\n",
       "<style scoped>\n",
       "    .dataframe tbody tr th:only-of-type {\n",
       "        vertical-align: middle;\n",
       "    }\n",
       "\n",
       "    .dataframe tbody tr th {\n",
       "        vertical-align: top;\n",
       "    }\n",
       "\n",
       "    .dataframe thead th {\n",
       "        text-align: right;\n",
       "    }\n",
       "</style>\n",
       "<table border=\"1\" class=\"dataframe\">\n",
       "  <thead>\n",
       "    <tr style=\"text-align: right;\">\n",
       "      <th></th>\n",
       "      <th>Model</th>\n",
       "      <th>Test_Score</th>\n",
       "    </tr>\n",
       "  </thead>\n",
       "  <tbody>\n",
       "    <tr>\n",
       "      <th>9</th>\n",
       "      <td>GradientBoost</td>\n",
       "      <td>0.93488</td>\n",
       "    </tr>\n",
       "    <tr>\n",
       "      <th>7</th>\n",
       "      <td>RandomForest</td>\n",
       "      <td>0.92093</td>\n",
       "    </tr>\n",
       "    <tr>\n",
       "      <th>6</th>\n",
       "      <td>BaggingClf</td>\n",
       "      <td>0.90233</td>\n",
       "    </tr>\n",
       "    <tr>\n",
       "      <th>8</th>\n",
       "      <td>Voting Classifier</td>\n",
       "      <td>0.90070</td>\n",
       "    </tr>\n",
       "    <tr>\n",
       "      <th>4</th>\n",
       "      <td>SVC_rbf</td>\n",
       "      <td>0.88372</td>\n",
       "    </tr>\n",
       "    <tr>\n",
       "      <th>2</th>\n",
       "      <td>Logistic</td>\n",
       "      <td>0.87581</td>\n",
       "    </tr>\n",
       "    <tr>\n",
       "      <th>5</th>\n",
       "      <td>DecisionTree</td>\n",
       "      <td>0.86977</td>\n",
       "    </tr>\n",
       "    <tr>\n",
       "      <th>1</th>\n",
       "      <td>Linear Discriminant</td>\n",
       "      <td>0.86605</td>\n",
       "    </tr>\n",
       "    <tr>\n",
       "      <th>0</th>\n",
       "      <td>Naive Bayes</td>\n",
       "      <td>0.84353</td>\n",
       "    </tr>\n",
       "    <tr>\n",
       "      <th>3</th>\n",
       "      <td>SDG</td>\n",
       "      <td>0.84341</td>\n",
       "    </tr>\n",
       "  </tbody>\n",
       "</table>\n",
       "</div>"
      ],
      "text/plain": [
       "                 Model  Test_Score\n",
       "9        GradientBoost     0.93488\n",
       "7         RandomForest     0.92093\n",
       "6           BaggingClf     0.90233\n",
       "8    Voting Classifier     0.90070\n",
       "4              SVC_rbf     0.88372\n",
       "2             Logistic     0.87581\n",
       "5         DecisionTree     0.86977\n",
       "1  Linear Discriminant     0.86605\n",
       "0          Naive Bayes     0.84353\n",
       "3                  SDG     0.84341"
      ]
     },
     "execution_count": 583,
     "metadata": {},
     "output_type": "execute_result"
    }
   ],
   "source": [
    "result_df.sort_values(\"Test_Score\", ascending=False)"
   ]
  },
  {
   "cell_type": "markdown",
   "metadata": {},
   "source": [
    "From above, Gradient Boost gives the best classification performance."
   ]
  },
  {
   "cell_type": "markdown",
   "metadata": {},
   "source": [
    "# VI. Testing on Unseen Data"
   ]
  },
  {
   "cell_type": "code",
   "execution_count": 646,
   "metadata": {},
   "outputs": [],
   "source": [
    "scaler = StandardScaler()\n",
    "X_unseen = scaler.fit_transform(X_unseen)"
   ]
  },
  {
   "cell_type": "markdown",
   "metadata": {},
   "source": [
    "#### Gradient Boost"
   ]
  },
  {
   "cell_type": "code",
   "execution_count": 664,
   "metadata": {},
   "outputs": [
    {
     "data": {
      "text/plain": [
       "GradientBoostingClassifier(n_estimators=500)"
      ]
     },
     "execution_count": 664,
     "metadata": {},
     "output_type": "execute_result"
    }
   ],
   "source": [
    "gb_clf = GradientBoostingClassifier(max_depth=3,n_estimators=500)\n",
    "gb_clf.fit(X, y)"
   ]
  },
  {
   "cell_type": "code",
   "execution_count": 671,
   "metadata": {},
   "outputs": [
    {
     "name": "stdout",
     "output_type": "stream",
     "text": [
      "Mean training accuracy:  1.0\n",
      "Mean testing accuracy:  0.86872\n"
     ]
    }
   ],
   "source": [
    "print(\"Mean training accuracy: \", gb_clf.score(X,y).round(5))\n",
    "print(\"Mean testing accuracy: \", gb_clf.score(X_unseen,y_unseen).round(5))"
   ]
  },
  {
   "cell_type": "markdown",
   "metadata": {},
   "source": [
    "#### Random Forest"
   ]
  },
  {
   "cell_type": "code",
   "execution_count": 672,
   "metadata": {},
   "outputs": [
    {
     "data": {
      "text/plain": [
       "RandomForestClassifier(max_depth=15, max_features=2)"
      ]
     },
     "execution_count": 672,
     "metadata": {},
     "output_type": "execute_result"
    }
   ],
   "source": [
    "rf = RandomForestClassifier(max_depth=15,max_features=2,n_estimators=100)\n",
    "rf.fit(X, y)"
   ]
  },
  {
   "cell_type": "code",
   "execution_count": 673,
   "metadata": {},
   "outputs": [
    {
     "name": "stdout",
     "output_type": "stream",
     "text": [
      "Mean training accuracy:  1.0\n",
      "Mean testing accuracy:  0.90223\n"
     ]
    }
   ],
   "source": [
    "print(\"Mean training accuracy: \", rf.score(X,y).round(5))\n",
    "print(\"Mean testing accuracy: \", rf.score(X_unseen,y_unseen).round(5))"
   ]
  },
  {
   "cell_type": "markdown",
   "metadata": {},
   "source": [
    "#### Bagging"
   ]
  },
  {
   "cell_type": "code",
   "execution_count": 674,
   "metadata": {},
   "outputs": [
    {
     "data": {
      "text/plain": [
       "BaggingClassifier(base_estimator=DecisionTreeClassifier(), max_samples=429,\n",
       "                  n_estimators=1000, n_jobs=-1)"
      ]
     },
     "execution_count": 674,
     "metadata": {},
     "output_type": "execute_result"
    }
   ],
   "source": [
    "bag_clf = BaggingClassifier(\n",
    "    DecisionTreeClassifier(),n_estimators=1000,\n",
    "    max_samples=429,bootstrap=True,n_jobs=-1)\n",
    "bag_clf.fit(X, y)"
   ]
  },
  {
   "cell_type": "code",
   "execution_count": 675,
   "metadata": {},
   "outputs": [
    {
     "name": "stdout",
     "output_type": "stream",
     "text": [
      "Mean training accuracy:  0.96365\n",
      "Mean testing accuracy:  0.89385\n"
     ]
    }
   ],
   "source": [
    "print(\"Mean training accuracy: \", bag_clf.score(X,y).round(5))\n",
    "print(\"Mean testing accuracy: \", bag_clf.score(X_unseen,y_unseen).round(5))"
   ]
  }
 ],
 "metadata": {
  "kernelspec": {
   "display_name": "Python 3",
   "language": "python",
   "name": "python3"
  },
  "language_info": {
   "codemirror_mode": {
    "name": "ipython",
    "version": 3
   },
   "file_extension": ".py",
   "mimetype": "text/x-python",
   "name": "python",
   "nbconvert_exporter": "python",
   "pygments_lexer": "ipython3",
   "version": "3.8.8"
  }
 },
 "nbformat": 4,
 "nbformat_minor": 1
}
